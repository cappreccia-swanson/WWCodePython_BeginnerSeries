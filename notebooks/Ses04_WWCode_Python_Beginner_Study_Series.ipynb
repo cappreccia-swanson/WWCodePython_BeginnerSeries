{
  "nbformat": 4,
  "nbformat_minor": 0,
  "metadata": {
    "colab": {
      "name": "Ses04_WWCode Python: Beginner Study Series.ipynb",
      "provenance": [],
      "collapsed_sections": [],
      "toc_visible": true,
      "include_colab_link": true
    },
    "kernelspec": {
      "name": "python3",
      "display_name": "Python 3"
    }
  },
  "cells": [
    {
      "cell_type": "markdown",
      "metadata": {
        "id": "view-in-github",
        "colab_type": "text"
      },
      "source": [
        "<a href=\"https://colab.research.google.com/github/nuageklow/WWCodePython_BeginnerSeries/blob/master/Ses04_WWCode_Python_Beginner_Study_Series.ipynb\" target=\"_parent\"><img src=\"https://colab.research.google.com/assets/colab-badge.svg\" alt=\"Open In Colab\"/></a>"
      ]
    },
    {
      "cell_type": "markdown",
      "metadata": {
        "id": "QQadl8SkyGW5"
      },
      "source": [
        "# __Agenda__   \n",
        "* Tuple\n",
        "* [Boolean](#Boolean) \n",
        "* [Set](#Set)\n",
        "* [Dictionary](#Dictionary)"
      ]
    },
    {
      "cell_type": "markdown",
      "metadata": {
        "id": "dWXRi0j24x3C"
      },
      "source": [
        "## Tuple"
      ]
    },
    {
      "cell_type": "markdown",
      "metadata": {
        "id": "pYyO8TFhh_qa"
      },
      "source": [
        "Creating a tuple:"
      ]
    },
    {
      "cell_type": "code",
      "metadata": {
        "id": "5RAlikCj-j74"
      },
      "source": [
        "# We will begin by creating an empty tuple \n",
        "# We will name this 'Tuple1' and it will be empty to begin with\n"
      ],
      "execution_count": null,
      "outputs": []
    },
    {
      "cell_type": "code",
      "metadata": {
        "id": "YYp1jlPyh_qb"
      },
      "source": [
        "# Creating an empty tuple  \n",
        " "
      ],
      "execution_count": null,
      "outputs": []
    },
    {
      "cell_type": "code",
      "metadata": {
        "id": "5VBOKIA_8foK"
      },
      "source": [
        "# Next, we will create a tuple with the use of strings, just like we did for lists earlier\n",
        "# This will also be called 'Tuple1' and will contain the values: Women, Who\n",
        "# We will then print out Tuple1\n"
      ],
      "execution_count": null,
      "outputs": []
    },
    {
      "cell_type": "code",
      "metadata": {
        "id": "oUqF3ewhh_qg"
      },
      "source": [
        "# Creating a Tuple with the use of Strings  \n"
      ],
      "execution_count": null,
      "outputs": []
    },
    {
      "cell_type": "code",
      "metadata": {
        "id": "EDCkG-gt8fzm"
      },
      "source": [
        "# Now, we will be creating a tuple with the use of list  \n",
        "# We will name this list, list 1, and it will contain the values: 1, 2, 4, 5, 6\n"
      ],
      "execution_count": null,
      "outputs": []
    },
    {
      "cell_type": "code",
      "metadata": {
        "id": "XanmBePjh_qj"
      },
      "source": [
        "# Creating a Tuple with the use of list  \n",
        "  "
      ],
      "execution_count": null,
      "outputs": []
    },
    {
      "cell_type": "code",
      "metadata": {
        "id": "J1SOLhRb8fsh"
      },
      "source": [
        "# Now, we will create a tuple with the use of the built-in function  \n",
        "# This will be called 'Tuple1' and will contain the value: WomenWhoCode\n",
        "# Then, we will print out 'Tuple1'\n"
      ],
      "execution_count": null,
      "outputs": []
    },
    {
      "cell_type": "code",
      "metadata": {
        "id": "PRsM6q8jh_ql"
      },
      "source": [
        "# Creating a Tuple with the use of built-in function  \n"
      ],
      "execution_count": null,
      "outputs": []
    },
    {
      "cell_type": "code",
      "metadata": {
        "id": "G2xhkQ1Q8fiQ"
      },
      "source": [
        "# Lastly, we will create a tuple with nested tuples \n",
        "# We will start out with Tuple1 (containing the values: 0, 1, 2, 3)\n",
        "# Then, we will have Tuple2 (containing the values: python, women)\n",
        "# Finally, we will have Tuple3 (containing the values: Tuple1, Tuple2)\n",
        "# Last, we will print out 'Tuple3' \n"
      ],
      "execution_count": null,
      "outputs": []
    },
    {
      "cell_type": "code",
      "metadata": {
        "id": "DiNEBVNph_qo"
      },
      "source": [
        "# Creating a Tuple with nested tuples  \n",
        " "
      ],
      "execution_count": null,
      "outputs": []
    },
    {
      "cell_type": "markdown",
      "metadata": {
        "id": "diSz6uuzh_qq"
      },
      "source": [
        "Access element from a tuple:"
      ]
    },
    {
      "cell_type": "code",
      "metadata": {
        "id": "c-xLWIhE8d__"
      },
      "source": [
        "# Now, we will be accessing elements from the tuple\n",
        "# The tuple will be tuple1 and contain the values: 1, 2, 3, 4, 5\n"
      ],
      "execution_count": null,
      "outputs": []
    },
    {
      "cell_type": "code",
      "metadata": {
        "id": "mLyaAYcPh_qq"
      },
      "source": [
        "# Creating tuple1\n"
      ],
      "execution_count": null,
      "outputs": []
    },
    {
      "cell_type": "code",
      "metadata": {
        "id": "w-LdZurY9CEh"
      },
      "source": [
        "# Next, we will access an element using indexing\n",
        "# We will access and print out the first value of tuple1\n"
      ],
      "execution_count": null,
      "outputs": []
    },
    {
      "cell_type": "code",
      "metadata": {
        "id": "5S9_oow2h_qs"
      },
      "source": [
        "# Accessing element using indexing \n",
        " "
      ],
      "execution_count": null,
      "outputs": []
    },
    {
      "cell_type": "code",
      "metadata": {
        "id": "lFHYKuHo9B__"
      },
      "source": [
        "# Lastly, we will access an element using negative indexing\n",
        "# First, we will access the last element of tuple1 and print it out.\n",
        "\n",
        "\n",
        "# Secondly, we will access the third-to-last element of tuple1 and print it out.\n"
      ],
      "execution_count": null,
      "outputs": []
    },
    {
      "cell_type": "code",
      "metadata": {
        "id": "OmGHf8X-h_qv"
      },
      "source": [
        "# Accessing element from last using negative indexing \n"
      ],
      "execution_count": null,
      "outputs": []
    },
    {
      "cell_type": "markdown",
      "metadata": {
        "id": "P5nmutO72wf5"
      },
      "source": [
        "\n",
        "\n",
        "---\n",
        "\n",
        "\n",
        "\n",
        "---\n",
        "\n"
      ]
    },
    {
      "cell_type": "markdown",
      "metadata": {
        "id": "s_TfEIVizu83"
      },
      "source": [
        "## __Boolean__  \n",
        "\n",
        "Boolean type that returns True or False  \n",
        "\n",
        "To check if a variable is boolean class, it should return `class<boolean>` when type `type(a)` \n",
        "\n",
        "__List of operators for boolean:__  \n",
        "* or   \n",
        "* and  \n",
        "* not  \n",
        "* == (equivalent)  \n",
        "* != (not equivalent) \n",
        "* \">\" / >= (greater / greater or equal to) \n",
        "* < / <= (less / less or equal to)  \n",
        "\n",
        "\n"
      ]
    },
    {
      "cell_type": "code",
      "metadata": {
        "id": "hG3dDB6cMHlQ"
      },
      "source": [
        "# find out if 10 is greater than 5 \n"
      ],
      "execution_count": null,
      "outputs": []
    },
    {
      "cell_type": "code",
      "metadata": {
        "id": "KsQ0-dV8WqSL",
        "outputId": "d2aa801f-92dd-48e0-a419-2144aa1019b5",
        "colab": {
          "base_uri": "https://localhost:8080/",
          "height": 35
        }
      },
      "source": [
        "# compare 2 numeric values: 3.141592653589793 and 3.141532653589793\n"
      ],
      "execution_count": null,
      "outputs": [
        {
          "output_type": "execute_result",
          "data": {
            "text/plain": [
              "True"
            ]
          },
          "metadata": {
            "tags": []
          },
          "execution_count": 2
        }
      ]
    },
    {
      "cell_type": "code",
      "metadata": {
        "id": "8bJT92eATplZ",
        "outputId": "0f588e69-65dd-4ff0-cfe6-ffc0f515c601",
        "colab": {
          "base_uri": "https://localhost:8080/",
          "height": 35
        }
      },
      "source": [
        "# compare strings \"1e8Ehv6ezVjIxNP5-sGpPsJ4gT7I1Ih97\" and \"1e8Ehv6ezVjIxNP5-asGpPsJ4gT7I1Ih97\"\n"
      ],
      "execution_count": null,
      "outputs": [
        {
          "output_type": "execute_result",
          "data": {
            "text/plain": [
              "False"
            ]
          },
          "metadata": {
            "tags": []
          },
          "execution_count": 3
        }
      ]
    },
    {
      "cell_type": "code",
      "metadata": {
        "id": "uUb0pfJix7Jx",
        "outputId": "4741c34e-4ca5-4984-bcc9-3c3731eb09a5",
        "colab": {
          "base_uri": "https://localhost:8080/",
          "height": 52
        }
      },
      "source": [
        "# make list of ingredients for your dinner\n",
        "dinner = \n",
        "\n",
        "# find out if onion is in the dinner list\n",
        "\n",
        "\n",
        "# find out if tomato is in the dinner list \n"
      ],
      "execution_count": null,
      "outputs": [
        {
          "output_type": "stream",
          "text": [
            "True\n",
            "False\n"
          ],
          "name": "stdout"
        }
      ]
    },
    {
      "cell_type": "code",
      "metadata": {
        "id": "CMg5Ve4yZ9uA",
        "outputId": "88f1679b-e999-4696-f377-27eb75a4cfaf",
        "colab": {
          "base_uri": "https://localhost:8080/",
          "height": 35
        }
      },
      "source": [
        "# find out if formula (572 + 365) * 2 is greater than (760 + 423) /3\n"
      ],
      "execution_count": null,
      "outputs": [
        {
          "output_type": "execute_result",
          "data": {
            "text/plain": [
              "True"
            ]
          },
          "metadata": {
            "tags": []
          },
          "execution_count": 5
        }
      ]
    },
    {
      "cell_type": "code",
      "metadata": {
        "id": "ClczqA1wQZGu",
        "outputId": "6a25751d-945e-46f2-f57e-12369e6cadae",
        "colab": {
          "base_uri": "https://localhost:8080/",
          "height": 35
        }
      },
      "source": [
        "fav_eggtypes_list = [\"scrambled\", \"omelets\", \"over easy\", \"sunny side up\", \"over easy\", \"over medium\", \"omelets\"]  \n",
        "ok_eggtypes_list = [\"poached\", \"boiled\", \"baked\", \"over hard\", \"over medium\"]\n",
        " \n",
        "# check out if sunny side up is in either of the egg list\n",
        "\n",
        " \n",
        "# check out if over hard is in both favourite and ok egg types list\n",
        "\n"
      ],
      "execution_count": null,
      "outputs": [
        {
          "output_type": "stream",
          "text": [
            "True\n"
          ],
          "name": "stdout"
        }
      ]
    },
    {
      "cell_type": "markdown",
      "metadata": {
        "id": "Gj8zJgcoMOFP"
      },
      "source": [
        "**_Friendly reminder: quotation? no quotation?_**   \n",
        "\n",
        "words / alphabet / numbers with quotation -> string  (i.e. \"apple\", \"145\")  \n",
        "words / alphabet without quotation -> variable (i.e. apple)  \n",
        "numbers without quotation -> integer (i.e. 32)\n",
        "\n",
        "![ChessUrl](https://media.giphy.com/media/Okh1vMtMT1HG4MhC2h/giphy.gif)\n"
      ]
    },
    {
      "cell_type": "markdown",
      "metadata": {
        "id": "ru-teeDw2x8o"
      },
      "source": [
        "\n",
        "\n",
        "---\n",
        "\n",
        "\n",
        "\n",
        "---\n",
        "\n"
      ]
    },
    {
      "cell_type": "markdown",
      "metadata": {
        "id": "-eAFWKFgkSkK"
      },
      "source": [
        "## __Set__  \n",
        " \n",
        "* a collection of string or integer with no specific index or order, same as list  \n",
        "* automatically sorts values in alphabetical order  \n",
        "\n",
        "__Objects__  \n",
        "* `len(s)` -- find out number of elements in set s  \n",
        "* `x in s` -- test x for memberships in s  \n",
        "* `x not in s` -- test x for non-membership in s  \n",
        "* `s.issubset(t)` / `s<=t`  -- test whether every element in s is in t  \n",
        "* `s.issuperset(t)` / `s>=t` -- test whether every element in t is in s  \n",
        "* `s.union(t)` / `s|t` -- new set with elements from both s & t  \n",
        "* `s.inersection(t)`  / `s&t` -- new set with elements common to s & t  \n",
        "* `s.difference(t)` / `s-t` -- new set with elements in s but not in t  \n",
        "* `s.symmetric_difference(t)` / `s^t`  -- new set with elements in either s or t but not both  \n",
        "* `s.copy`  -- new set with a shallow copy of s"
      ]
    },
    {
      "cell_type": "code",
      "metadata": {
        "id": "y-MgduW3FhNY",
        "outputId": "abecbedd-46be-49b1-cf4d-224f92f78348",
        "colab": {
          "base_uri": "https://localhost:8080/",
          "height": 52
        }
      },
      "source": [
        "# obtain unique values from fav_eggtypes_list\n",
        "\n",
        "\n",
        "# now print the original fav_eggtypes_list to compare\n"
      ],
      "execution_count": null,
      "outputs": [
        {
          "output_type": "stream",
          "text": [
            "{'sunny side up', 'over easy', 'over medium', 'omelets', 'scrambled'}\n",
            "['scrambled', 'omelets', 'over easy', 'sunny side up', 'over easy', 'over medium', 'omelets']\n"
          ],
          "name": "stdout"
        }
      ]
    },
    {
      "cell_type": "code",
      "metadata": {
        "id": "kd5PlEGKwE4v"
      },
      "source": [
        "# find out the type of egg that shows up in both favourite egg type (fav_eggtypes_list) and ok egg type (ok_eggtypes_list)\n"
      ],
      "execution_count": null,
      "outputs": []
    },
    {
      "cell_type": "markdown",
      "metadata": {
        "id": "eQUxbBP42zBw"
      },
      "source": [
        "\n",
        "\n",
        "---\n",
        "\n",
        "\n",
        "\n",
        "---\n",
        "\n"
      ]
    },
    {
      "cell_type": "markdown",
      "metadata": {
        "id": "89MZfgeRJhPE"
      },
      "source": [
        "## __Dictionary__  \n",
        " \n",
        "Like the word \"dictionary\", this sequence data type stores values in an unordered manner. Dictionary in Python consists of 2 main elements: key and value - and we called it _key and value pair_\n",
        " \n",
        "Use curly braces `{}` to represent a dictionary\n",
        " \n",
        " \n",
        " \n",
        "Example dictionary: \n",
        "`dairy = {\"cheese\":[\"cheddar\", \"blue\", \"goat\", \"mozzarella\", \"brie\"], \"milk\": [\"whole fat\", \"2% skim\", \"soy\"]}`"
      ]
    },
    {
      "cell_type": "code",
      "metadata": {
        "id": "g7NsdDmWX40j"
      },
      "source": [
        "\n",
        "# create a dictionary that consists of 3 key-value pairs of items and give an appropriate variable name\n"
      ],
      "execution_count": null,
      "outputs": []
    },
    {
      "cell_type": "code",
      "metadata": {
        "id": "TpbpwD53DCDK"
      },
      "source": [
        "# now append an item on the second series of values\n"
      ],
      "execution_count": null,
      "outputs": []
    },
    {
      "cell_type": "code",
      "metadata": {
        "id": "QfzGze2oE507"
      },
      "source": [
        "# apparently, the added value was not the value you were supposed to add, so you want to delete it\n"
      ],
      "execution_count": null,
      "outputs": []
    },
    {
      "cell_type": "code",
      "metadata": {
        "id": "hSEAbGP9Fdp-"
      },
      "source": [
        "# you now decided you dont want the third set of the values, so you will delete the values\n"
      ],
      "execution_count": null,
      "outputs": []
    },
    {
      "cell_type": "markdown",
      "metadata": {
        "id": "v_78qjRNGaGE"
      },
      "source": [
        " List of common functions that can be used:  https://www.w3schools.com/python/python_ref_dictionary.asp"
      ]
    }
  ]
}