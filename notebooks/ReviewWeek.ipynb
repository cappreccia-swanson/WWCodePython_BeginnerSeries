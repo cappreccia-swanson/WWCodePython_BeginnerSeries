{
  "nbformat": 4,
  "nbformat_minor": 0,
  "metadata": {
    "colab": {
      "name": "ReviewWeek.ipynb",
      "provenance": [],
      "collapsed_sections": [],
      "include_colab_link": true
    },
    "kernelspec": {
      "name": "python3",
      "display_name": "Python 3"
    }
  },
  "cells": [
    {
      "cell_type": "markdown",
      "metadata": {
        "id": "view-in-github",
        "colab_type": "text"
      },
      "source": [
        "<a href=\"https://colab.research.google.com/github/nuageklow/WWCodePython_BeginnerSeries/blob/master/notebooks/ReviewWeek.ipynb\" target=\"_parent\"><img src=\"https://colab.research.google.com/assets/colab-badge.svg\" alt=\"Open In Colab\"/></a>"
      ]
    },
    {
      "cell_type": "markdown",
      "metadata": {
        "id": "vJhIv5mQ7qwq"
      },
      "source": [
        "__Install a library__"
      ]
    },
    {
      "cell_type": "code",
      "metadata": {
        "id": "FGfuqKi07kut"
      },
      "source": [
        ""
      ],
      "execution_count": 1,
      "outputs": []
    },
    {
      "cell_type": "markdown",
      "metadata": {
        "id": "YXtGBoMt7xMe"
      },
      "source": [
        "__Tuple__  \n",
        " \n",
        "*__What__ is Tuple?*\n",
        " * a collection of data which is ordered and unchangeable\n",
        " * which means the data will display is alphabetical order and no adding / deleting an element is allowed  \n",
        " \n",
        "*__How__ is Tuple represented?* \n",
        " * (1,2,3) \n",
        " \n",
        "*__Why__ is Tuple being used?*\n",
        " * when you use a library function it often returns as tuple, so that the values will not be changed especially when the value passes onto another function  \n",
        " \n",
        "*__When__ to use Tuple?*\n",
        " * you want an arrayed values that automatically in ordered \n",
        " * you don't want (anyone) to a collection of data\n",
        " \n",
        "Also processing a tuple is faster than processing a list - the more the flexibility the slower the processing time!"
      ]
    },
    {
      "cell_type": "code",
      "metadata": {
        "id": "Cdf6LlIr7y_5"
      },
      "source": [
        "# create 2 tuples \n",
        "a = ('a','b','c')\n",
        "b = (1,2,3)\n",
        " \n",
        "# join the 2 tuples\n",
        "\n",
        "\n",
        "# delete tuple (you are not allowed to delete specific items in tuple)\n"
      ],
      "execution_count": null,
      "outputs": []
    },
    {
      "cell_type": "markdown",
      "metadata": {
        "id": "Vr72MjDA7zVq"
      },
      "source": [
        "__Dictionary__  \n",
        " \n",
        "*__What__ is Dictionary?*\n",
        " * collection of data that are _unordered_, _changeable_ and _indexed_  \n",
        " * cool thing about dictionary: _key and values pair_  \n",
        " \n",
        "*__How__ is Dictionary represented?* \n",
        " * {key1:value1, key2:value2}\n",
        " \n",
        "*__Why__ is Dictionary being used?*\n",
        " * you can name the index depending on your own\n",
        " * it's easy to read and change the data - get the value by its key instead of counting the location  \n",
        " \n",
        "*__When__ to use Dictionary?*  \n",
        " * you want to keep a large set of values in an ordered manner"
      ]
    },
    {
      "cell_type": "code",
      "metadata": {
        "id": "Cn52SEOS71YJ",
        "outputId": "053ca1f8-9cc7-4009-caa1-b98699dd73c2",
        "colab": {
          "base_uri": "https://localhost:8080/"
        }
      },
      "source": [
        "# a dictionary\n",
        "pet = {\"dog\": [\"corgi\",\"lab\",\"golden retriever\", \"mixed\"], \"cat\": [\"russian blue\", \"persian\", \"calico\", \"mixed\"], \"others\": [\"fox\",\"squirrel\",\"otter\",\"lizard\"]}\n",
        "d\n",
        " \n",
        "# add (update) values\n",
        "\n",
        " \n",
        "# remove (pop) value(s)\n"
      ],
      "execution_count": null,
      "outputs": [
        {
          "output_type": "execute_result",
          "data": {
            "text/plain": [
              "{'cat': ['russian blue', 'persian', 'calico', 'mixed'],\n",
              " 'dog': ['corgi', 'lab', 'golden retriever', 'mixed']}"
            ]
          },
          "metadata": {
            "tags": []
          },
          "execution_count": 1
        }
      ]
    },
    {
      "cell_type": "markdown",
      "metadata": {
        "id": "BzdRFZ3B71k5"
      },
      "source": [
        "__If/Else__  \n",
        " \n",
        "\"AI\" is made from a bunch of ifs and elses!   \n",
        "![ChessUrl](https://img-9gag-fun.9cache.com/photo/aOYA1mE_700bwp.webp)"
      ]
    },
    {
      "cell_type": "code",
      "metadata": {
        "id": "oL6hcvS573pX"
      },
      "source": [
        "num = 1000\n",
        "if < num < : # check range 9-99\n",
        "    print()\n",
        "elif  < num < : # check range 99-999\n",
        "    print()\n",
        "elif  < num < : # check range 999-9999\n",
        "    print()\n",
        "else: # check all other numbers\n",
        "    print()"
      ],
      "execution_count": null,
      "outputs": []
    },
    {
      "cell_type": "code",
      "metadata": {
        "id": "cRDvkgHmFGU7"
      },
      "source": [
        "# Define variables\n",
        "room = 'bed'\n",
        "area = 14.0\n",
        "\n",
        "# conditions for room\n",
        "if room == : # check if room is kitchen\n",
        "  print()\n",
        "elif room == : # check if room is bedroom\n",
        "  print()\n",
        "else: # check anywhere else around the house\n",
        "  print()\n",
        "\n",
        "# conditions for area\n",
        "if area > 15: # check if area is greater than 15\n",
        "  print()\n",
        "else: # check for any other value (15 or less)\n",
        "  print()\n"
      ],
      "execution_count": null,
      "outputs": []
    },
    {
      "cell_type": "markdown",
      "metadata": {
        "id": "sa6BNAgK74BU"
      },
      "source": [
        "For Loop"
      ]
    },
    {
      "cell_type": "code",
      "metadata": {
        "id": "UiLdD5r-75vn"
      },
      "source": [
        "# for loop in a list\n",
        "fruits = [\"apple\", \"banana\", \"orange\"]\n",
        "for :\n",
        "  "
      ],
      "execution_count": null,
      "outputs": []
    },
    {
      "cell_type": "code",
      "metadata": {
        "id": "4Ss9EtJBFJIi"
      },
      "source": [
        "# for loop in a string\n",
        "for :\n",
        " "
      ],
      "execution_count": null,
      "outputs": []
    },
    {
      "cell_type": "code",
      "metadata": {
        "id": "Azyige2wFK0b"
      },
      "source": [
        "# using range() function in a for loop\n",
        "for :\n",
        "  "
      ],
      "execution_count": null,
      "outputs": []
    },
    {
      "cell_type": "code",
      "metadata": {
        "id": "8O9mPah_FMMM"
      },
      "source": [
        "# add else condition in a for loop!\n",
        "for in range():\n",
        "  \n",
        "else:\n",
        "  "
      ],
      "execution_count": null,
      "outputs": []
    },
    {
      "cell_type": "markdown",
      "metadata": {
        "id": "QYyVaRqfEtLl"
      },
      "source": [
        "![Flow control](https://blog.penjee.com/wp-content/uploads/2015/11/loop-over-python-list-animation.gif)"
      ]
    },
    {
      "cell_type": "code",
      "metadata": {
        "id": "lTAFEh_rEtbE"
      },
      "source": [
        ""
      ],
      "execution_count": null,
      "outputs": []
    }
  ]
}