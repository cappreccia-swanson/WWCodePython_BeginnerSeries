{
  "nbformat": 4,
  "nbformat_minor": 0,
  "metadata": {
    "colab": {
      "name": "Ses05_WWCode_BeginnerPythonStudyGroup_ProgrammingLogic_Solutions.ipynb",
      "provenance": [],
      "collapsed_sections": [],
      "include_colab_link": true
    },
    "kernelspec": {
      "name": "python3",
      "display_name": "Python 3"
    }
  },
  "cells": [
    {
      "cell_type": "markdown",
      "metadata": {
        "id": "view-in-github",
        "colab_type": "text"
      },
      "source": [
        "<a href=\"https://colab.research.google.com/github/nuageklow/WWCodePython_BeginnerSeries/blob/master/notebooks/Ses05_WWCode_BeginnerPythonStudyGroup_ProgrammingLogic_Solutions.ipynb\" target=\"_parent\"><img src=\"https://colab.research.google.com/assets/colab-badge.svg\" alt=\"Open In Colab\"/></a>"
      ]
    },
    {
      "cell_type": "markdown",
      "metadata": {
        "id": "zRRjnCu39qG4"
      },
      "source": [
        "# __Programming Logic__\n",
        "\n",
        "![Flow control](https://blog.penjee.com/wp-content/uploads/2015/11/loop-over-python-list-animation.gif)\n",
        " \n"
      ]
    },
    {
      "cell_type": "markdown",
      "metadata": {
        "id": "8O7UNU7Sb6iW"
      },
      "source": [
        "# Agenda for Today\n",
        " \n",
        "* if statement\n",
        "* else statement\n",
        "* elif statement\n",
        "* while loop\n",
        "* for loop"
      ]
    },
    {
      "cell_type": "markdown",
      "metadata": {
        "id": "7SstqGjx-R6i"
      },
      "source": [
        "## if statement\n",
        "\n"
      ]
    },
    {
      "cell_type": "code",
      "metadata": {
        "id": "LgMrmkVN9jIx",
        "outputId": "fe7cc84c-4b94-46af-84ae-295b6bcf3783",
        "colab": {
          "base_uri": "https://localhost:8080/",
          "height": 34
        }
      },
      "source": [
        "# Python program to illustrate if statement \n",
        "\n",
        "i = 10\n",
        "if (i > 15):  # check if variable i is greater than 15\n",
        "  print (\"10 is less than 15\") \n",
        "print (\"I am Not in if\")  # this print statement does not belong to the \"if\" code block, hence the statement will be printed out whether the condition above has been met\n"
      ],
      "execution_count": null,
      "outputs": [
        {
          "output_type": "stream",
          "text": [
            "I am Not in if\n"
          ],
          "name": "stdout"
        }
      ]
    },
    {
      "cell_type": "markdown",
      "metadata": {
        "id": "eUb7-Tfz_UmX"
      },
      "source": [
        "## else statement\n",
        " \n"
      ]
    },
    {
      "cell_type": "code",
      "metadata": {
        "id": "v-qas-_S_f8R",
        "outputId": "67571b8d-d26b-4ec6-ef17-4e830888f21a",
        "colab": {
          "base_uri": "https://localhost:8080/",
          "height": 70
        }
      },
      "source": [
        "# python program to illustrate if-else statement \n",
        "\n",
        "\n",
        "i = 20; \n",
        "if (i < 15): # check if variable i is less than 15 \n",
        "  print (\"i is smaller than 15\") \n",
        "  print (\"i'm in if Block\") \n",
        "else:  # do the following if i is NOT less than 15\n",
        "\tprint (\"i is greater than 15\") \n",
        "\tprint (\"i'm in else Block\") \n",
        "print (\"i'm not in if and not in else Block\") \n"
      ],
      "execution_count": null,
      "outputs": [
        {
          "output_type": "stream",
          "text": [
            "i is greater than 15\n",
            "i'm in else Block\n",
            "i'm not in if and not in else Block\n"
          ],
          "name": "stdout"
        }
      ]
    },
    {
      "cell_type": "markdown",
      "metadata": {
        "id": "MQxDp5GtA5wr"
      },
      "source": [
        "## elif statement\n",
        " \n"
      ]
    },
    {
      "cell_type": "code",
      "metadata": {
        "id": "6gRUUOS7BNXr",
        "outputId": "a54f7cea-8c20-4ed5-d213-1e69c3b7fedf",
        "colab": {
          "base_uri": "https://localhost:8080/",
          "height": 34
        }
      },
      "source": [
        "# Python program to illustrate if-elif-else ladder \n",
        "\n",
        "\n",
        "i = 20\n",
        "if (i == 10):  # check if i is equal to 10\n",
        "\tprint (\"i is 10\") \n",
        "elif (i == 15): # if i is not equal to 10, check if i equals to 15\n",
        "\tprint (\"i is 15\") \n",
        "elif (i == 20):   # if i is not equal to neither 10 or 15, check if i equals to 20\n",
        "\tprint (\"i is 20\") \n",
        "else: \n",
        "\tprint (\"i is not present\") \n"
      ],
      "execution_count": null,
      "outputs": [
        {
          "output_type": "stream",
          "text": [
            "i is 20\n"
          ],
          "name": "stdout"
        }
      ]
    },
    {
      "cell_type": "markdown",
      "metadata": {
        "id": "W6HNfyWDdrJp"
      },
      "source": [
        "## if / elif / else all together!"
      ]
    },
    {
      "cell_type": "code",
      "metadata": {
        "id": "hcnb7AncdyRI"
      },
      "source": [
        "# numeric example\n",
        "\n",
        "var = 100                                                                       # declare variable var as 100\n",
        "if var == 200:                                                                  # check if var is equal to 200\n",
        "   print (\"1 - Got a true expression value\")                                    # print a statement if var is equal to 200\n",
        "   print (var)                                                                  # print var\n",
        "elif var == 150:\n",
        "   print (\"2 - Got a true expression value\")\n",
        "   print (var)\n",
        "elif var == 100:\n",
        "   print (\"3 - Got a true expression value\")\n",
        "   print (var)\n",
        "else:\n",
        "   print (\"4 - Got a false expression value\")\n",
        "   print (var)\n",
        "\n",
        "print (\"Good bye!\")"
      ],
      "execution_count": null,
      "outputs": []
    },
    {
      "cell_type": "code",
      "metadata": {
        "id": "B6gUpgq1ob62"
      },
      "source": [
        "# \"husband/partner in training\" example\n",
        "\n",
        "weather = input(\"How is the weather today honey?: \")                                        # ask to insert a word to describe the weather\n",
        "\n",
        "if weather == \"rainy\":                                                                      # check if the weather is rainy\n",
        "    print(\"It is %s so remind your wife / partner.\"%(weather))                              # provide an action item for your partner when it is rainy\n",
        "elif weather == \"windy\":                                                                    # check if the weather is windy if it's not rainy\n",
        "    print(\"It is %s so close the doors and windows properly.\"%(weather))                    # provide an action item for your partner when it is windy\n",
        "elif weather == \"sunny\" :                                                                   # check if the weather is sunny if it's not either rainy or windy\n",
        "    print(\"It is %s so remind your wife to bring sunglasses.\"%(weather))                    # provide an action itme for your partner when it is sunny\n",
        "elif weather == \"hot\":                                                                      # check if the weather is cold when it is neither rainy, windy nor sunny \n",
        "    print(\"It is %s go make a mojito for your wife.\"%(weather))                             # tell your partner to make mojito for you when it is hot\n",
        "elif weather == \"cold\" :                                                                    # check if the weather is cold when it is not either rainy, windy, sunny or hot \n",
        "    print(\"It is %s so bring your wife a jacket.\"%(weather))                                # who is gonna support the family if you catch a cold when it is cold\n",
        "else:                                                                                       # it accepts all other answers if none of the condition above fits\n",
        "    print(\"Remember to help your wife to do chores.\")                                       # there are always things for your partner to help out with\n",
        "\n",
        "print(\"Thank you so much for your help you are the best (if you get your chores done).\")    # outside of the code block"
      ],
      "execution_count": null,
      "outputs": []
    },
    {
      "cell_type": "markdown",
      "metadata": {
        "id": "0dBwRkWhCdH3"
      },
      "source": [
        "## while loop\n",
        " \n"
      ]
    },
    {
      "cell_type": "code",
      "metadata": {
        "id": "pBMrRiiXCmkr",
        "outputId": "db8d820c-c0d1-4c99-d332-2bff43087ac8",
        "colab": {
          "base_uri": "https://localhost:8080/",
          "height": 158
        }
      },
      "source": [
        "# Python program to illustrate while loop \n",
        "\n",
        "\n",
        "count = 0\n",
        "while (count < 3):  # keep checking if count is less than 3\n",
        "\tcount = count + 1  # add 1 to count if condition meeets\n",
        "\tprint(\"Hello fellow Pythonista\") \n",
        "\n",
        "print() \n",
        "\n",
        "# checks if list still contains any element \n",
        "a = [1, 2, 3, 4] \n",
        "while a:  # run through the list a \n",
        "\tprint(a.pop())  # take of each element\n"
      ],
      "execution_count": null,
      "outputs": [
        {
          "output_type": "stream",
          "text": [
            "Hello fellow Pythonista\n",
            "Hello fellow Pythonista\n",
            "Hello fellow Pythonista\n",
            "\n",
            "4\n",
            "3\n",
            "2\n",
            "1\n"
          ],
          "name": "stdout"
        }
      ]
    },
    {
      "cell_type": "markdown",
      "metadata": {
        "id": "4USmY0__eMZ7"
      },
      "source": [
        "### continue statement:"
      ]
    },
    {
      "cell_type": "code",
      "metadata": {
        "id": "QRs5hBQUeSSZ",
        "outputId": "fefcde10-daf3-499d-d170-2851f59ffd55",
        "colab": {
          "base_uri": "https://localhost:8080/",
          "height": 141
        }
      },
      "source": [
        "# Prints all letters except 'e' and 'o' \n",
        "\n",
        "i = 0\n",
        "a = 'womenwhocode'\n",
        "\n",
        "while i < len(a): \n",
        "\tif a[i] == 'e' or a[i] == 'o': \n",
        "\t\ti += 1\n",
        "\t\tcontinue\n",
        "\tprint('Current Letter :', a[i]) \n",
        "\ti += 1\n"
      ],
      "execution_count": null,
      "outputs": [
        {
          "output_type": "stream",
          "text": [
            "Current Letter : w\n",
            "Current Letter : m\n",
            "Current Letter : n\n",
            "Current Letter : w\n",
            "Current Letter : h\n",
            "Current Letter : c\n",
            "Current Letter : d\n"
          ],
          "name": "stdout"
        }
      ]
    },
    {
      "cell_type": "markdown",
      "metadata": {
        "id": "VffzRWzGeOJ4"
      },
      "source": [
        "### break statement:"
      ]
    },
    {
      "cell_type": "code",
      "metadata": {
        "id": "KwQu5u41eTdM",
        "outputId": "65e5b0dc-d977-4ccb-eaf5-3ffd1a8773e5",
        "colab": {
          "base_uri": "https://localhost:8080/",
          "height": 34
        }
      },
      "source": [
        "# break the loop as soon as it sees 'e' or 'o' \n",
        "i = 0\n",
        "a = 'womenwhocode'\n",
        "\n",
        "while i < len(a): \n",
        "\tif a[i] == 'e' or a[i] == 'o': \n",
        "\t\ti += 1\n",
        "\t\tbreak\n",
        "\tprint('Current Letter :', a[i]) \n",
        "\ti += 1\n"
      ],
      "execution_count": null,
      "outputs": [
        {
          "output_type": "stream",
          "text": [
            "Current Letter : w\n"
          ],
          "name": "stdout"
        }
      ]
    },
    {
      "cell_type": "markdown",
      "metadata": {
        "id": "D0-dR7cccBQ4"
      },
      "source": [
        "## for loop"
      ]
    },
    {
      "cell_type": "markdown",
      "metadata": {
        "id": "2ANOUBIzfosk"
      },
      "source": [
        "### For in loop:"
      ]
    },
    {
      "cell_type": "code",
      "metadata": {
        "id": "PTCS3x-rcBim",
        "outputId": "b89a1027-0c23-4e06-c61a-064ced1244b9",
        "colab": {
          "base_uri": "https://localhost:8080/",
          "height": 87
        }
      },
      "source": [
        "# Python program to illustrate iterating over a list \n",
        "\n",
        "print(\"List Iteration\") \n",
        "l = [\"women\", \"who\", \"code\"] \n",
        "for i in l: \n",
        "\tprint(i) "
      ],
      "execution_count": null,
      "outputs": [
        {
          "output_type": "stream",
          "text": [
            "List Iteration\n",
            "women\n",
            "who\n",
            "code\n"
          ],
          "name": "stdout"
        }
      ]
    },
    {
      "cell_type": "code",
      "metadata": {
        "id": "6Si8T9Lcf4lJ",
        "outputId": "2d1a2852-1f41-48ce-fae2-1d26c7e52960",
        "colab": {
          "base_uri": "https://localhost:8080/",
          "height": 34
        }
      },
      "source": [
        "# using range for iteration \n",
        "\n",
        "l = [10, 20, 30, 40] \n",
        "for i in range(len(l)): \n",
        "\tprint(l[i], end=\" \") \n",
        "print() "
      ],
      "execution_count": null,
      "outputs": [
        {
          "output_type": "stream",
          "text": [
            "10 20 30 40 \n"
          ],
          "name": "stdout"
        }
      ]
    },
    {
      "cell_type": "code",
      "metadata": {
        "id": "vHWI8GKle09H",
        "outputId": "76b5123b-e820-4cb3-9110-a53874a9caa1",
        "colab": {
          "base_uri": "https://localhost:8080/",
          "height": 105
        }
      },
      "source": [
        "# Iterating over a tuple (immutable) \n",
        "\n",
        "print(\"\\nTuple Iteration\") \n",
        "t = (\"women\", \"who\", \"code\") \n",
        "for i in t: \n",
        "\tprint(i) "
      ],
      "execution_count": null,
      "outputs": [
        {
          "output_type": "stream",
          "text": [
            "\n",
            "Tuple Iteration\n",
            "women\n",
            "who\n",
            "code\n"
          ],
          "name": "stdout"
        }
      ]
    },
    {
      "cell_type": "code",
      "metadata": {
        "id": "WhJAH20xe026",
        "outputId": "28518b2c-08e2-4b71-9179-5fe5b7035da4",
        "colab": {
          "base_uri": "https://localhost:8080/",
          "height": 247
        }
      },
      "source": [
        "# Iterating over a String \n",
        "\n",
        "print(\"\\nString Iteration\")\t \n",
        "s = \"Pythonistas\"\n",
        "for i in s : \n",
        "\tprint(i) "
      ],
      "execution_count": null,
      "outputs": [
        {
          "output_type": "stream",
          "text": [
            "\n",
            "String Iteration\n",
            "P\n",
            "y\n",
            "t\n",
            "h\n",
            "o\n",
            "n\n",
            "i\n",
            "s\n",
            "t\n",
            "a\n",
            "s\n"
          ],
          "name": "stdout"
        }
      ]
    },
    {
      "cell_type": "code",
      "metadata": {
        "id": "j7eBUxmKcDFh",
        "outputId": "179287a8-e520-4603-815f-38044dcb5a62",
        "colab": {
          "base_uri": "https://localhost:8080/",
          "height": 87
        }
      },
      "source": [
        "# Iterating over dictionary \n",
        "\n",
        "print(\"\\nDictionary Iteration\")\t \n",
        "d = dict() \n",
        "d['xyz'] = 123\n",
        "d['abc'] = 345\n",
        "for i in d : \n",
        "\tprint(\"% s % d\" %(i, d[i])) "
      ],
      "execution_count": null,
      "outputs": [
        {
          "output_type": "stream",
          "text": [
            "\n",
            "Dictionary Iteration\n",
            "xyz  123\n",
            "abc  345\n"
          ],
          "name": "stdout"
        }
      ]
    },
    {
      "cell_type": "markdown",
      "metadata": {
        "id": "o5qG5jf_fl4U"
      },
      "source": [
        "### using range()"
      ]
    },
    {
      "cell_type": "code",
      "metadata": {
        "id": "sh8oAZ59foCk",
        "outputId": "1e51a8d8-7dad-4019-eaed-807c6aee0391",
        "colab": {
          "base_uri": "https://localhost:8080/",
          "height": 34
        }
      },
      "source": [
        "# Python Program to show range() basics \n",
        "\n",
        "# printing a number \n",
        "\n",
        "for i in range(10): \n",
        "\tprint(i, end=\" \") \n",
        "print() "
      ],
      "execution_count": null,
      "outputs": [
        {
          "output_type": "stream",
          "text": [
            "0 1 2 3 4 5 6 7 8 9 \n"
          ],
          "name": "stdout"
        }
      ]
    },
    {
      "cell_type": "code",
      "metadata": {
        "id": "Eq9NBpbrf4c7",
        "outputId": "fa3b3199-aceb-479b-a709-d14a5bedb4c3",
        "colab": {
          "base_uri": "https://localhost:8080/",
          "height": 34
        }
      },
      "source": [
        "# performing sum of first 10 numbers \n",
        "\n",
        "sum = 0\n",
        "for i in range(1, 10): \n",
        "\tsum = sum + i \n",
        "print(\"Sum of first 10 numbers :\", sum) "
      ],
      "execution_count": null,
      "outputs": [
        {
          "output_type": "stream",
          "text": [
            "Sum of first 10 numbers : 45\n"
          ],
          "name": "stdout"
        }
      ]
    },
    {
      "cell_type": "markdown",
      "metadata": {
        "id": "BQtaGxGCe-0E"
      },
      "source": [
        "### continue statement:"
      ]
    },
    {
      "cell_type": "code",
      "metadata": {
        "id": "CbVdnHqge_El",
        "outputId": "da11ea28-93d3-4ab3-f543-e9105374750c",
        "colab": {
          "base_uri": "https://localhost:8080/",
          "height": 141
        }
      },
      "source": [
        "# Prints all letters except 'e' and 'o' \n",
        "\n",
        "for letter in 'womenwhocode': \n",
        "\tif letter == 'e' or letter == 'o': \n",
        "\t\tcontinue\n",
        "\tprint('Current Letter :', letter) \n",
        "\tvar = 10\n"
      ],
      "execution_count": null,
      "outputs": [
        {
          "output_type": "stream",
          "text": [
            "Current Letter : w\n",
            "Current Letter : m\n",
            "Current Letter : n\n",
            "Current Letter : w\n",
            "Current Letter : h\n",
            "Current Letter : c\n",
            "Current Letter : d\n"
          ],
          "name": "stdout"
        }
      ]
    },
    {
      "cell_type": "markdown",
      "metadata": {
        "id": "eHrvz6j_e_a-"
      },
      "source": [
        "### break statement:"
      ]
    },
    {
      "cell_type": "code",
      "metadata": {
        "id": "zLO1hvJXe_tV",
        "outputId": "1fa9d132-1fc5-4099-f323-50589b4fe5ae",
        "colab": {
          "base_uri": "https://localhost:8080/",
          "height": 34
        }
      },
      "source": [
        "for letter in 'womenwhocode': \n",
        "\t\n",
        "\t# break the loop as soon as it sees 'e' or 'o' \n",
        "\tif letter == 'e' or letter == 'o': \n",
        "\t\tbreak\n",
        "\t\n",
        "print('Current Letter :', letter) \n"
      ],
      "execution_count": null,
      "outputs": [
        {
          "output_type": "stream",
          "text": [
            "Current Letter : o\n"
          ],
          "name": "stdout"
        }
      ]
    },
    {
      "cell_type": "markdown",
      "metadata": {
        "id": "c3ppV4mGcDZx"
      },
      "source": [
        "## Putting it all together!"
      ]
    },
    {
      "cell_type": "markdown",
      "metadata": {
        "id": "LQnZhNEogItH"
      },
      "source": [
        "![Flow control](https://blog.penjee.com/wp-content/uploads/2015/11/loop-over-python-list-animation.gif)"
      ]
    },
    {
      "cell_type": "markdown",
      "metadata": {
        "id": "Bz4hj2xSAWoK"
      },
      "source": [
        "# References\n",
        " \n",
        "\n",
        "\n",
        "1.   [Automate the Boring Stuff with Python](https://automatetheboringstuff.com/2e/chapter2/)\n",
        "2.   [W3 Schools: if/elif](https://www.w3schools.com/python/gloss_python_elif.asp)\n",
        "3.   [Flow Control in Python - Official Documentation](https://docs.python.org/2/tutorial/controlflow.html)\n",
        "\n"
      ]
    }
  ]
}