{
  "nbformat": 4,
  "nbformat_minor": 0,
  "metadata": {
    "colab": {
      "name": "Ses05_WWCode_BeginnerPythonStudyGroup_ProgrammingLogic.ipynb",
      "provenance": [],
      "collapsed_sections": [],
      "include_colab_link": true
    },
    "kernelspec": {
      "name": "python3",
      "display_name": "Python 3"
    }
  },
  "cells": [
    {
      "cell_type": "markdown",
      "metadata": {
        "id": "view-in-github",
        "colab_type": "text"
      },
      "source": [
        "<a href=\"https://colab.research.google.com/github/nuageklow/WWCodePython_BeginnerSeries/blob/master/notebooks/Ses05_WWCode_BeginnerPythonStudyGroup_ProgrammingLogic.ipynb\" target=\"_parent\"><img src=\"https://colab.research.google.com/assets/colab-badge.svg\" alt=\"Open In Colab\"/></a>"
      ]
    },
    {
      "cell_type": "markdown",
      "metadata": {
        "id": "zRRjnCu39qG4"
      },
      "source": [
        "# __Programming Logic__\n",
        "\n",
        "![Flow control](https://blog.penjee.com/wp-content/uploads/2015/11/loop-over-python-list-animation.gif)\n",
        " \n"
      ]
    },
    {
      "cell_type": "markdown",
      "metadata": {
        "id": "8O7UNU7Sb6iW"
      },
      "source": [
        "# Agenda for Today\n",
        " \n",
        "* if statement\n",
        "* else statement\n",
        "* elif statement\n",
        "* while loop\n",
        "* for loop"
      ]
    },
    {
      "cell_type": "markdown",
      "metadata": {
        "id": "7SstqGjx-R6i"
      },
      "source": [
        "## if statement\n",
        "\n"
      ]
    },
    {
      "cell_type": "code",
      "metadata": {
        "id": "LgMrmkVN9jIx",
        "outputId": "fe7cc84c-4b94-46af-84ae-295b6bcf3783",
        "colab": {
          "base_uri": "https://localhost:8080/",
          "height": 34
        }
      },
      "source": [
        "# Python program to illustrate if statement \n",
        "\n",
        "i = 10\n",
        "if : \n",
        "  print  \n",
        "print \n"
      ],
      "execution_count": null,
      "outputs": [
        {
          "output_type": "stream",
          "text": [
            "I am Not in if\n"
          ],
          "name": "stdout"
        }
      ]
    },
    {
      "cell_type": "markdown",
      "metadata": {
        "id": "eUb7-Tfz_UmX"
      },
      "source": [
        "## else statement\n",
        " \n"
      ]
    },
    {
      "cell_type": "code",
      "metadata": {
        "id": "v-qas-_S_f8R",
        "outputId": "67571b8d-d26b-4ec6-ef17-4e830888f21a",
        "colab": {
          "base_uri": "https://localhost:8080/",
          "height": 70
        }
      },
      "source": [
        "# python program to illustrate if-else statement \n",
        " \n",
        " \n",
        "i = 20; \n",
        "if : \n",
        "  print  \n",
        "  print \n",
        "else: \n",
        "    print \n",
        "    print \n",
        "print"
      ],
      "execution_count": null,
      "outputs": [
        {
          "output_type": "stream",
          "text": [
            "i is greater than 15\n",
            "i'm in else Block\n",
            "i'm not in if and not in else Block\n"
          ],
          "name": "stdout"
        }
      ]
    },
    {
      "cell_type": "markdown",
      "metadata": {
        "id": "MQxDp5GtA5wr"
      },
      "source": [
        "## elif statement\n",
        " \n"
      ]
    },
    {
      "cell_type": "code",
      "metadata": {
        "id": "6gRUUOS7BNXr",
        "outputId": "a54f7cea-8c20-4ed5-d213-1e69c3b7fedf",
        "colab": {
          "base_uri": "https://localhost:8080/",
          "height": 34
        }
      },
      "source": [
        "# Python program to illustrate if-elif-else ladder \n",
        " \n",
        " \n",
        "i = 20\n",
        "if : \n",
        "    print \n",
        "elif (): \n",
        "    print  \n",
        "elif (): \n",
        "    print \n",
        "else: \n",
        "    print"
      ],
      "execution_count": null,
      "outputs": [
        {
          "output_type": "stream",
          "text": [
            "i is 20\n"
          ],
          "name": "stdout"
        }
      ]
    },
    {
      "cell_type": "markdown",
      "metadata": {
        "id": "W6HNfyWDdrJp"
      },
      "source": [
        "## if / elif / else all together!"
      ]
    },
    {
      "cell_type": "code",
      "metadata": {
        "id": "An3faeNWrxNa"
      },
      "source": [
        "# favourite ice cream\n",
        "icecream = input(\"What are your favourite kinds of ice cream? (one kind only - all small letters please)\")    # ask for an answer / input of your favourite kind of ice cream\n",
        " \n",
        "if icecream == \"chocolate\":                                                                                   # check if the answer is chocolate \n",
        "    print(\"Chocolate ice cream is my all time favourite!\")                                                    # print a statement to compliment the choice when the answer is chocolate\n",
        "elif icecream == \"strawberry\":                                                                                # if the answer is not chocolate, check if it is strawberry\n",
        "    print(\"Ummmmm strawberry is good too!\")                                                                   # print a statement to compliment the choice\n",
        "elif icecream == \"greentea\":                                                                                  # if the answer is not chocolete or stawberry, check if it is greentea\n",
        "    print(\"Greentea ice cream sounds quite healthy to me!\")                                                   # print a statement to compliment the choice\n",
        "elif icecream == \"vanilla\":                                                                                   # if the answer is not chocolate or stawberry or greentea, check if it is the classic vanilla\n",
        "    print(\"Classic vanilla! Yumm!\")                                                                           # print a statement to compliment the choice\n",
        "elif icecream == \"coconut\" or icecream == \"mango\":                                                            # if the answer is none of the flavors above, check if it is either coconut or mango\n",
        "    print(\"Tropical flavour is always good!\")                                                                 # print a statement to compliment the choice\n",
        "elif icecream == \"all\" or icecream == \"all of them\":                                                         # check if the answer is actually not a flavor but saying \"all\"\n",
        "    print(\"Cannot agree more.\")                                                                               # agree with the answer\n",
        "else:                                                                                                         # all the answers will go here if none of the conditios above fit\n",
        "    print(\"You either picked a not as common flavor or you just don't like ice cream :(\")                     # comment on why the flavor is none of the above"
      ],
      "execution_count": null,
      "outputs": []
    },
    {
      "cell_type": "markdown",
      "metadata": {
        "id": "0dBwRkWhCdH3"
      },
      "source": [
        "## while loop\n",
        " \n"
      ]
    },
    {
      "cell_type": "code",
      "metadata": {
        "id": "pBMrRiiXCmkr",
        "outputId": "db8d820c-c0d1-4c99-d332-2bff43087ac8",
        "colab": {
          "base_uri": "https://localhost:8080/",
          "height": 158
        }
      },
      "source": [
        "# Python program to illustrate while loop \n",
        "\n",
        "\n",
        "count = 0\n",
        "while ():\t \n",
        "\tcount = \n",
        "\tprint \n",
        "\n",
        "print()  \n"
      ],
      "execution_count": null,
      "outputs": [
        {
          "output_type": "stream",
          "text": [
            "Hello fellow Pythonista\n",
            "Hello fellow Pythonista\n",
            "Hello fellow Pythonista\n",
            "\n",
            "4\n",
            "3\n",
            "2\n",
            "1\n"
          ],
          "name": "stdout"
        }
      ]
    },
    {
      "cell_type": "code",
      "metadata": {
        "id": "PRlXr_OzeAox"
      },
      "source": [
        "# checks if list still contains any element \n",
        "a = [1, 2, 3, 4] \n",
        "while : \n",
        "\tprint"
      ],
      "execution_count": null,
      "outputs": []
    },
    {
      "cell_type": "markdown",
      "metadata": {
        "id": "4USmY0__eMZ7"
      },
      "source": [
        "### continue statement:"
      ]
    },
    {
      "cell_type": "code",
      "metadata": {
        "id": "QRs5hBQUeSSZ",
        "outputId": "fefcde10-daf3-499d-d170-2851f59ffd55",
        "colab": {
          "base_uri": "https://localhost:8080/",
          "height": 141
        }
      },
      "source": [
        "# Prints all letters except 'e' and 'o' \n",
        "\n",
        "i = 0\n",
        "a = 'womenwhocode'\n",
        "\n",
        "while i < len(a): \n",
        "\tif a[i] == 'e' or a[i] == 'o': \n",
        "\t\ti += 1\n",
        "\t\tcontinue\n",
        "\tprint('Current Letter :', a[i]) \n",
        "\ti += 1\n"
      ],
      "execution_count": null,
      "outputs": [
        {
          "output_type": "stream",
          "text": [
            "Current Letter : w\n",
            "Current Letter : m\n",
            "Current Letter : n\n",
            "Current Letter : w\n",
            "Current Letter : h\n",
            "Current Letter : c\n",
            "Current Letter : d\n"
          ],
          "name": "stdout"
        }
      ]
    },
    {
      "cell_type": "markdown",
      "metadata": {
        "id": "VffzRWzGeOJ4"
      },
      "source": [
        "### break statement:"
      ]
    },
    {
      "cell_type": "code",
      "metadata": {
        "id": "KwQu5u41eTdM",
        "outputId": "65e5b0dc-d977-4ccb-eaf5-3ffd1a8773e5",
        "colab": {
          "base_uri": "https://localhost:8080/",
          "height": 34
        }
      },
      "source": [
        "# break the loop as soon as it sees 'e' or 'o' \n",
        "i = 0\n",
        "a = 'womenwhocode'\n",
        "\n",
        "while i < len(a): \n",
        "\tif a[i] == 'e' or a[i] == 'o': \n",
        "\t\ti += 1\n",
        "\t\tbreak\n",
        "\tprint('Current Letter :', a[i]) \n",
        "\ti += 1\n"
      ],
      "execution_count": null,
      "outputs": [
        {
          "output_type": "stream",
          "text": [
            "Current Letter : w\n"
          ],
          "name": "stdout"
        }
      ]
    },
    {
      "cell_type": "markdown",
      "metadata": {
        "id": "D0-dR7cccBQ4"
      },
      "source": [
        "## for loop"
      ]
    },
    {
      "cell_type": "markdown",
      "metadata": {
        "id": "2ANOUBIzfosk"
      },
      "source": [
        "### For in loop:"
      ]
    },
    {
      "cell_type": "code",
      "metadata": {
        "id": "PTCS3x-rcBim",
        "outputId": "b89a1027-0c23-4e06-c61a-064ced1244b9",
        "colab": {
          "base_uri": "https://localhost:8080/",
          "height": 87
        }
      },
      "source": [
        "# Python program to illustrate iterating over a list \n",
        "\n",
        "print(\"List Iteration\") \n",
        "l = [\"women\", \"who\", \"code\"] \n",
        "for i : \n",
        "\tprint "
      ],
      "execution_count": null,
      "outputs": [
        {
          "output_type": "stream",
          "text": [
            "List Iteration\n",
            "women\n",
            "who\n",
            "code\n"
          ],
          "name": "stdout"
        }
      ]
    },
    {
      "cell_type": "code",
      "metadata": {
        "id": "6Si8T9Lcf4lJ",
        "outputId": "2d1a2852-1f41-48ce-fae2-1d26c7e52960",
        "colab": {
          "base_uri": "https://localhost:8080/",
          "height": 34
        }
      },
      "source": [
        "# using range for iteration \n",
        "\n",
        "l = [10, 20, 30, 40] \n",
        "for i in range(): \n",
        "\tprint \n",
        "print()"
      ],
      "execution_count": null,
      "outputs": [
        {
          "output_type": "stream",
          "text": [
            "10 20 30 40 \n"
          ],
          "name": "stdout"
        }
      ]
    },
    {
      "cell_type": "code",
      "metadata": {
        "id": "vHWI8GKle09H",
        "outputId": "76b5123b-e820-4cb3-9110-a53874a9caa1",
        "colab": {
          "base_uri": "https://localhost:8080/",
          "height": 105
        }
      },
      "source": [
        "# Iterating over a tuple (immutable) \n",
        "\n",
        "print(\"\\nTuple Iteration\") \n",
        "t = (\"women\", \"who\", \"code\") \n",
        "for i : \n",
        "\tprint"
      ],
      "execution_count": null,
      "outputs": [
        {
          "output_type": "stream",
          "text": [
            "\n",
            "Tuple Iteration\n",
            "women\n",
            "who\n",
            "code\n"
          ],
          "name": "stdout"
        }
      ]
    },
    {
      "cell_type": "code",
      "metadata": {
        "id": "WhJAH20xe026",
        "outputId": "28518b2c-08e2-4b71-9179-5fe5b7035da4",
        "colab": {
          "base_uri": "https://localhost:8080/",
          "height": 247
        }
      },
      "source": [
        "# Iterating over a String \n",
        "\n",
        "print(\"\\nString Iteration\")\t \n",
        "s = \"Pythonistas\"\n",
        "for i : \n",
        "\tprint"
      ],
      "execution_count": null,
      "outputs": [
        {
          "output_type": "stream",
          "text": [
            "\n",
            "String Iteration\n",
            "P\n",
            "y\n",
            "t\n",
            "h\n",
            "o\n",
            "n\n",
            "i\n",
            "s\n",
            "t\n",
            "a\n",
            "s\n"
          ],
          "name": "stdout"
        }
      ]
    },
    {
      "cell_type": "code",
      "metadata": {
        "id": "j7eBUxmKcDFh",
        "outputId": "179287a8-e520-4603-815f-38044dcb5a62",
        "colab": {
          "base_uri": "https://localhost:8080/",
          "height": 87
        }
      },
      "source": [
        "# Iterating over dictionary \n",
        "\n",
        "print(\"\\nDictionary Iteration\")\t \n",
        "d = dict() \n",
        "d['xyz'] = 123\n",
        "d['abc'] = 345\n",
        "for i : \n",
        "\tprint() "
      ],
      "execution_count": null,
      "outputs": [
        {
          "output_type": "stream",
          "text": [
            "\n",
            "Dictionary Iteration\n",
            "xyz  123\n",
            "abc  345\n"
          ],
          "name": "stdout"
        }
      ]
    },
    {
      "cell_type": "markdown",
      "metadata": {
        "id": "o5qG5jf_fl4U"
      },
      "source": [
        "### using range()"
      ]
    },
    {
      "cell_type": "code",
      "metadata": {
        "id": "sh8oAZ59foCk",
        "outputId": "1e51a8d8-7dad-4019-eaed-807c6aee0391",
        "colab": {
          "base_uri": "https://localhost:8080/",
          "height": 34
        }
      },
      "source": [
        "# Python Program to show range() basics \n",
        "\n",
        "# printing a number \n",
        "\n",
        "for i in range(): \n",
        "\tprint() \n",
        "print() "
      ],
      "execution_count": null,
      "outputs": [
        {
          "output_type": "stream",
          "text": [
            "0 1 2 3 4 5 6 7 8 9 \n"
          ],
          "name": "stdout"
        }
      ]
    },
    {
      "cell_type": "code",
      "metadata": {
        "id": "Eq9NBpbrf4c7",
        "outputId": "44f12fd3-2b3b-4689-8378-e6646d935b81",
        "colab": {
          "base_uri": "https://localhost:8080/",
          "height": 133
        }
      },
      "source": [
        "# performing sum of first 10 numbers \n",
        "\n",
        "sum = 0\n",
        "for i in range(): \n",
        "\tsum =\n",
        "print( )"
      ],
      "execution_count": null,
      "outputs": [
        {
          "output_type": "error",
          "ename": "SyntaxError",
          "evalue": "ignored",
          "traceback": [
            "\u001b[0;36m  File \u001b[0;32m\"<ipython-input-1-0775f11a650f>\"\u001b[0;36m, line \u001b[0;32m5\u001b[0m\n\u001b[0;31m    sum =\u001b[0m\n\u001b[0m         ^\u001b[0m\n\u001b[0;31mSyntaxError\u001b[0m\u001b[0;31m:\u001b[0m invalid syntax\n"
          ]
        }
      ]
    },
    {
      "cell_type": "markdown",
      "metadata": {
        "id": "BQtaGxGCe-0E"
      },
      "source": [
        "### continue statement:"
      ]
    },
    {
      "cell_type": "code",
      "metadata": {
        "id": "CbVdnHqge_El",
        "outputId": "da11ea28-93d3-4ab3-f543-e9105374750c",
        "colab": {
          "base_uri": "https://localhost:8080/",
          "height": 141
        }
      },
      "source": [
        "# Prints all letters except 'e' and 'o' \n",
        "\n",
        "for letter in 'womenwhocode': \n",
        "\tif letter == 'e' or letter == 'o': \n",
        "\t\tcontinue\n",
        "\tprint('Current Letter :', letter) \n",
        "\tvar = 10\n"
      ],
      "execution_count": null,
      "outputs": [
        {
          "output_type": "stream",
          "text": [
            "Current Letter : w\n",
            "Current Letter : m\n",
            "Current Letter : n\n",
            "Current Letter : w\n",
            "Current Letter : h\n",
            "Current Letter : c\n",
            "Current Letter : d\n"
          ],
          "name": "stdout"
        }
      ]
    },
    {
      "cell_type": "markdown",
      "metadata": {
        "id": "eHrvz6j_e_a-"
      },
      "source": [
        "### break statement:"
      ]
    },
    {
      "cell_type": "code",
      "metadata": {
        "id": "zLO1hvJXe_tV",
        "outputId": "1fa9d132-1fc5-4099-f323-50589b4fe5ae",
        "colab": {
          "base_uri": "https://localhost:8080/",
          "height": 34
        }
      },
      "source": [
        "for letter in 'womenwhocode': \n",
        "\t\n",
        "\t# break the loop as soon as it sees 'e' or 'o' \n",
        "\tif letter == 'e' or letter == 'o': \n",
        "\t\tbreak\n",
        "\t\n",
        "print('Current Letter :', letter) \n"
      ],
      "execution_count": null,
      "outputs": [
        {
          "output_type": "stream",
          "text": [
            "Current Letter : o\n"
          ],
          "name": "stdout"
        }
      ]
    },
    {
      "cell_type": "markdown",
      "metadata": {
        "id": "c3ppV4mGcDZx"
      },
      "source": [
        "## Putting it all together!"
      ]
    },
    {
      "cell_type": "markdown",
      "metadata": {
        "id": "LQnZhNEogItH"
      },
      "source": [
        "![Flow control](https://blog.penjee.com/wp-content/uploads/2015/11/loop-over-python-list-animation.gif)"
      ]
    },
    {
      "cell_type": "markdown",
      "metadata": {
        "id": "Bz4hj2xSAWoK"
      },
      "source": [
        "# References\n",
        " \n",
        "\n",
        "\n",
        "1.   [Automate the Boring Stuff with Python](https://automatetheboringstuff.com/2e/chapter2/)\n",
        "2.   [W3 Schools: if/elif](https://www.w3schools.com/python/gloss_python_elif.asp)\n",
        "3.   [Flow Control in Python - Official Documentation](https://docs.python.org/2/tutorial/controlflow.html)\n",
        "\n"
      ]
    }
  ]
}