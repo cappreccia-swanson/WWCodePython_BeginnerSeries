{
  "nbformat": 4,
  "nbformat_minor": 0,
  "metadata": {
    "colab": {
      "name": "Ses07_WWCode_BeginnerPythonStudyGroup.ipynb",
      "provenance": [],
      "collapsed_sections": [],
      "include_colab_link": true
    },
    "kernelspec": {
      "name": "python3",
      "display_name": "Python 3"
    }
  },
  "cells": [
    {
      "cell_type": "markdown",
      "metadata": {
        "id": "view-in-github",
        "colab_type": "text"
      },
      "source": [
        "<a href=\"https://colab.research.google.com/github/nuageklow/WWCodePython_BeginnerSeries/blob/master/notebooks/Ses07_WWCode_BeginnerPythonStudyGroup.ipynb\" target=\"_parent\"><img src=\"https://colab.research.google.com/assets/colab-badge.svg\" alt=\"Open In Colab\"/></a>"
      ]
    },
    {
      "cell_type": "markdown",
      "metadata": {
        "id": "4a6XJXZdcdIv"
      },
      "source": [
        "## WomenWhoCode Python: Beginner Python Series Session 7 \n",
        " \n",
        "<font color=\"lime\"> __Writing a Python Module__ <font>\n",
        "  \n",
        "When you write something with long paragraph (i.e. an essay), you want your content to be logical and in order. Same as writing a script, you want to keep things as neat and logical as possible for both you and others to understand what you are writing.  \n",
        " \n",
        "Use these to organize your thoughts:  \n",
        " \n",
        "* class  \n",
        "* definition  \n",
        " \n",
        "Use these to help you verify / check your logic and code   \n",
        "* comment  \n",
        "* print"
      ]
    },
    {
      "cell_type": "markdown",
      "metadata": {
        "id": "OJkJPsAUceKl"
      },
      "source": [
        "## __Definition Function (def)__\n",
        " \n",
        "```\n",
        "def functionname (parameters):\n",
        "  use the parameters to do something\n",
        "  return value\n",
        "```"
      ]
    },
    {
      "cell_type": "markdown",
      "metadata": {
        "id": "ewhiVdIXg2tX"
      },
      "source": [
        "__Definition Function Exercise 1__ -   \n",
        "Make a function that adds 2 numbers together"
      ]
    },
    {
      "cell_type": "code",
      "metadata": {
        "id": "GgLelBIz9PmR"
      },
      "source": [
        "# write a function called 'add' with 2 parameters: num1 and num2\n",
        " \n",
        " \n",
        "  # write a description of the function\n",
        "  ''' write description here '''\n",
        " \n",
        "  # use variable 'added_num' to represent sum of num1 and num2\n",
        " \n",
        " \n",
        "  # set variable 'added_num' as the return value\n",
        " \n",
        " \n",
        "# execute the add function by inserting values for num1 and num2"
      ],
      "execution_count": null,
      "outputs": []
    },
    {
      "cell_type": "markdown",
      "metadata": {
        "id": "0SAH458riFN2"
      },
      "source": [
        "__Definition Function Exercise 2__ -  \n",
        "Make a function that sends greeting messages with custom names"
      ]
    },
    {
      "cell_type": "code",
      "metadata": {
        "id": "eLC1dRc8cUV-"
      },
      "source": [
        "# write a function called 'sayhello' with 1 parameter: name\n",
        " \n",
        " \n",
        "  # write a description of the function\n",
        "  \n",
        " \n",
        "  # use variable 'greeting' to send a welcome message\n",
        " \n",
        " \n",
        "  # set variable 'greeting' as the return value\n",
        " \n",
        " \n",
        "# execute the sayhello function by inserting a name"
      ],
      "execution_count": null,
      "outputs": []
    },
    {
      "cell_type": "markdown",
      "metadata": {
        "id": "RsqDK0RcisoO"
      },
      "source": [
        "__Definition Function Exercise 3__ -  \n",
        " \n",
        "<font color='pink'>Scenario:</font>     \n",
        "As a fresh graudate who just started to live by yourself, you have a part time job as your main income but you want to save some money for future whenever possible.  \n",
        "<font color='pink'>Mission:</font>  \n",
        "Write a function to calculate your monthly allowance deducting from your essential spending"
      ]
    },
    {
      "cell_type": "code",
      "metadata": {
        "id": "CJUBYz1aBFJc"
      },
      "source": [
        "# write a function called 'essentialspending' with 1 parameter: s \n",
        " \n",
        "\n",
        "  # write a description of the function\n",
        "  \n",
        " \n",
        "  # define all your common spending with approximate val\n",
        "  salary = s\n",
        "  rent = 1000\n",
        "  utilities = 100\n",
        "  gas = 200\n",
        "  saving = 200\n",
        "  car_insurance = 130\n",
        " \n",
        "  # we want to use the money for spending if income is less than $2,100\n",
        "  # write a if/else statement to tell us our monthly allowance using variable 'allowance'\n",
        "  # formula hint: allowance salary - all spendings\n",
        " \n",
        " \n",
        "  # set variable 'allowance' as the return value\n",
        " \n",
        " \n",
        "# test out the function essentialspending with income input\n",
        "income = input('Your income this month: ')\n",
        "income = int(income)\n",
        "print('This month I am allowed to spend $%d'%(essentialspending(income)))"
      ],
      "execution_count": null,
      "outputs": []
    },
    {
      "cell_type": "markdown",
      "metadata": {
        "id": "FJq8JCc-hkET"
      },
      "source": [
        "## __Class__  \n",
        " \n",
        "```\n",
        "class classname:\n",
        "  \n",
        "  def function1():\n",
        "    do something\n",
        "    return value\n",
        " \n",
        "  def function2():\n",
        "    do something\n",
        "    return value \n",
        "```"
      ]
    },
    {
      "cell_type": "markdown",
      "metadata": {
        "id": "Gplg_7U9reKK"
      },
      "source": [
        "__Class Exercise 1__ -  \n",
        "Create a simple caculator"
      ]
    },
    {
      "cell_type": "code",
      "metadata": {
        "id": "O54N7FIzhmF0"
      },
      "source": [
        "# write a class called \"cal\" to include the 4 basic calculation functions\n",
        "class cal:\n",
        " \n",
        "  # description on what the class does\n",
        "  ''' this is a calculator that has the 4 basic calculation functions'''\n",
        " \n",
        "  # create a add function with 2 parameters num1 and num2 and return the summed value\n",
        " \n",
        " \n",
        "  # create a subtract function with same 2 parameters and return the subtracted value\n",
        " \n",
        " \n",
        "  # create a multiply function with same 2 parameters and return the multiplied value\n",
        " \n",
        " \n",
        "  # create a divide function with same 2 parameters and return the divided value\n",
        " \n",
        " \n",
        "# test out the class\n",
        "a = cal.add(8,12)\n",
        "b = cal.divide(a,4)\n",
        "b"
      ],
      "execution_count": null,
      "outputs": []
    },
    {
      "cell_type": "markdown",
      "metadata": {
        "id": "iAlf9qM3r5_Y"
      },
      "source": [
        "_Remember help() function from Session 2_?   \n",
        "This is how you can use on your own function!"
      ]
    },
    {
      "cell_type": "code",
      "metadata": {
        "id": "cSHZM66-h1gl"
      },
      "source": [
        "# revisit the help function with what you just built!\n",
        "help(cal)"
      ],
      "execution_count": null,
      "outputs": []
    },
    {
      "cell_type": "markdown",
      "metadata": {
        "id": "7rOXOXA8sJSe"
      },
      "source": [
        "__Class Exercise 2__ -  \n",
        "<font color='pink'>Scenario:</font>  \n",
        "You are a data expert of your company who is reponsible for your company's data. \n",
        " \n",
        "<font color='pink'>Mission:</font>  \n",
        "Create an application form to process the data of new employees and create an automated message to different teams"
      ]
    },
    {
      "cell_type": "code",
      "metadata": {
        "id": "gqdiKetdLFZ5"
      },
      "source": [
        "## exercise: create an application form with class\n",
        " \n",
        "# create a class called 'appform' with specific people\n",
        "class appform:\n",
        " \n",
        "  # initiate the values \n",
        "  def __init__(self,name,gender,address,dob,salary,start_date):\n",
        "    self.name = name\n",
        "    self.gender = gender\n",
        "    self.address = address\n",
        "    self.dob = dob\n",
        "    self.salary = salary\n",
        "    self.start_date = start_date\n",
        "\n",
        "  # create a function 'to_manager' \n",
        "\n",
        "    # write a description of the function\n",
        "\n",
        "    # manager will need to know all information of that employee\n",
        "\n",
        "    # return the information\n",
        "\n",
        "  # create a function 'to_finance'\n",
        "\n",
        "    # write a description of the function\n",
        "\n",
        "    # finance department will only need to know the person's name, address, salary and start date\n",
        " \n",
        "    # return the information\n",
        " \n",
        "  # create a function 'to_reception'\n",
        "\n",
        "    # write a description of the function\n",
        "\n",
        "    # reception will only need to know the person's name, gender and start date\n",
        " \n",
        "    # return the information\n",
        " \n",
        "  # create a function 'to_hr'\n",
        "\n",
        "    # write a description of the function\n",
        "\n",
        "    # HR department will receive same information as the manager to keep detailed record\n",
        "\n",
        "    # return the information\n",
        "\n",
        " \n",
        "# ======================================== #\n",
        "# input the information\n",
        "form_name = input('Employee name: ')\n",
        "form_gender = input('Employee gender: ')\n",
        "form_address = input('Employee address: ')\n",
        "form_dob = input('Employee Day of Birth ')\n",
        "form_salary = input('Employee salary: ')\n",
        "form_start_date = input('Employee start date: ')\n",
        " \n",
        "# insert all the \n",
        "fillform = appform(form_name,form_gender,form_address,form_dob,form_salary,form_start_date)\n",
        " \n",
        "# set a receiver (department)\n",
        "receiver = ''\n",
        "print('Hi {} team, please expect and welcome our new employee with the following information:\\n {}'.format(receiver,fillform.to_reception()))"
      ],
      "execution_count": null,
      "outputs": []
    },
    {
      "cell_type": "markdown",
      "metadata": {
        "id": "a__BtRLdOW6B"
      },
      "source": [
        "__Stress about coding? Google everything until you get the hang of things!!__\n",
        "![ChessUrl](https://4.bp.blogspot.com/-HEJLRkcu3pQ/Wh2A9kr8XwI/AAAAAAAAC9w/GmCMdBd7ekwWgLuoqTvS_DSoFeuhtUNcACEwYBhgL/s1600/not-sure-if-i-am-a-good-programming-or-good-at-googling.jpg))\n"
      ]
    }
  ]
}