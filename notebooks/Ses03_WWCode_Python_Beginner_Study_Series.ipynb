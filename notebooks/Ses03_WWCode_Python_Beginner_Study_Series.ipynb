{
  "nbformat": 4,
  "nbformat_minor": 0,
  "metadata": {
    "colab": {
      "name": "Ses03_WWCode Python: Beginner Study Series.ipynb",
      "provenance": [],
      "collapsed_sections": [],
      "toc_visible": true,
      "include_colab_link": true
    },
    "kernelspec": {
      "name": "python3",
      "display_name": "Python 3"
    }
  },
  "cells": [
    {
      "cell_type": "markdown",
      "metadata": {
        "id": "view-in-github",
        "colab_type": "text"
      },
      "source": [
        "<a href=\"https://colab.research.google.com/github/nuageklow/WWCodePython_BeginnerSeries/blob/master/Ses03_WWCode_Python_Beginner_Study_Series.ipynb\" target=\"_parent\"><img src=\"https://colab.research.google.com/assets/colab-badge.svg\" alt=\"Open In Colab\"/></a>"
      ]
    },
    {
      "cell_type": "markdown",
      "metadata": {
        "id": "ssewOGTo4U20",
        "colab_type": "text"
      },
      "source": [
        "# Session #3: Data Types - Part 1"
      ]
    },
    {
      "cell_type": "markdown",
      "metadata": {
        "id": "KF3ERxhK4ayM",
        "colab_type": "text"
      },
      "source": [
        "## Outline:\n",
        "\n",
        "\n",
        "\n",
        "*   Numeric:\n",
        "  * Integers\n",
        "  * Floating-point\n",
        "*   Sequence:\n",
        "  * String\n",
        "  * List\n",
        "  * Tuple\n"
      ]
    },
    {
      "cell_type": "markdown",
      "metadata": {
        "id": "YzvdYewi4nJ8",
        "colab_type": "text"
      },
      "source": [
        "### Numeric"
      ]
    },
    {
      "cell_type": "markdown",
      "metadata": {
        "id": "4V6uweje4pEg",
        "colab_type": "text"
      },
      "source": [
        "#### Integers"
      ]
    },
    {
      "cell_type": "code",
      "metadata": {
        "id": "2devA0YC40K6",
        "colab_type": "code",
        "colab": {}
      },
      "source": [
        "# What type is the number 10?\n",
        "# insert code here"
      ],
      "execution_count": null,
      "outputs": []
    },
    {
      "cell_type": "code",
      "metadata": {
        "id": "gDHjxL6j5BLJ",
        "colab_type": "code",
        "colab": {}
      },
      "source": [
        "# What about the number 99999999?\n",
        "# insert code here"
      ],
      "execution_count": null,
      "outputs": []
    },
    {
      "cell_type": "code",
      "metadata": {
        "id": "OBNbdGz25Bgy",
        "colab_type": "code",
        "colab": {}
      },
      "source": [
        "# Now, let's create a new variable and assign it a value\n",
        "# We will name the variable 'a' and assign it the value of 12345\n",
        "# insert code here"
      ],
      "execution_count": null,
      "outputs": []
    },
    {
      "cell_type": "code",
      "metadata": {
        "id": "pYXGBvED5Nzm",
        "colab_type": "code",
        "colab": {}
      },
      "source": [
        "# We will now repeat this but for a new variable 'b' with the value of 20\n",
        "# insert code here"
      ],
      "execution_count": null,
      "outputs": []
    },
    {
      "cell_type": "code",
      "metadata": {
        "id": "txQ8Arr_5a9H",
        "colab_type": "code",
        "colab": {}
      },
      "source": [
        "# Repeat this once more but with a new variable 'c' with the value of -700\n",
        "# insert code here"
      ],
      "execution_count": null,
      "outputs": []
    },
    {
      "cell_type": "code",
      "metadata": {
        "id": "DuuCTd5h5OdW",
        "colab_type": "code",
        "colab": {}
      },
      "source": [
        "# We would like to now find out the types for each of these 3 variables\n",
        "# insert code here for type of 'a'"
      ],
      "execution_count": null,
      "outputs": []
    },
    {
      "cell_type": "code",
      "metadata": {
        "id": "Q60tOlaf5c-K",
        "colab_type": "code",
        "colab": {}
      },
      "source": [
        "# insert code here for type of 'b'"
      ],
      "execution_count": null,
      "outputs": []
    },
    {
      "cell_type": "code",
      "metadata": {
        "id": "HDdG0F0l5dXI",
        "colab_type": "code",
        "colab": {}
      },
      "source": [
        "# insert code here for type of 'c'"
      ],
      "execution_count": null,
      "outputs": []
    },
    {
      "cell_type": "markdown",
      "metadata": {
        "id": "IXYA0-6R4rPt",
        "colab_type": "text"
      },
      "source": [
        "#### Floating-point"
      ]
    },
    {
      "cell_type": "code",
      "metadata": {
        "id": "mdxoBmCS5STD",
        "colab_type": "code",
        "colab": {}
      },
      "source": [
        "# Now that we have covered integers, let's move to floating-point numbers\n",
        "# What is type of 10.0?\n",
        "# insert code here"
      ],
      "execution_count": null,
      "outputs": []
    },
    {
      "cell_type": "code",
      "metadata": {
        "id": "4lK6MYDE5l-A",
        "colab_type": "code",
        "colab": {}
      },
      "source": [
        "# What about the type of 99999999.00?\n",
        "# insert code here"
      ],
      "execution_count": null,
      "outputs": []
    },
    {
      "cell_type": "code",
      "metadata": {
        "id": "HIg5zXP25nZw",
        "colab_type": "code",
        "colab": {}
      },
      "source": [
        "# Or the type of 12345.0?\n",
        "# insert code here"
      ],
      "execution_count": null,
      "outputs": []
    },
    {
      "cell_type": "code",
      "metadata": {
        "id": "72XAbVn65sIH",
        "colab_type": "code",
        "colab": {}
      },
      "source": [
        "# We will now create 4 more variables, d/e/f/g, and assign them each separate values\n",
        "# d will have the value of 12345.0\n",
        "# insert code here"
      ],
      "execution_count": null,
      "outputs": []
    },
    {
      "cell_type": "code",
      "metadata": {
        "id": "5dp2qTwbB62n",
        "colab_type": "code",
        "colab": {}
      },
      "source": [
        "# e will have the value of 20.000\n",
        "# insert code here"
      ],
      "execution_count": null,
      "outputs": []
    },
    {
      "cell_type": "code",
      "metadata": {
        "id": "O8W4HYnO5sZY",
        "colab_type": "code",
        "colab": {}
      },
      "source": [
        "# f will have the value of -700.0\n",
        "# insert code here"
      ],
      "execution_count": null,
      "outputs": []
    },
    {
      "cell_type": "code",
      "metadata": {
        "id": "N_h5fSrl6z7s",
        "colab_type": "code",
        "colab": {}
      },
      "source": [
        "# g will have the value of 7e-5\n",
        "# insert code here"
      ],
      "execution_count": null,
      "outputs": []
    },
    {
      "cell_type": "code",
      "metadata": {
        "id": "xi-925l954I-",
        "colab_type": "code",
        "colab": {}
      },
      "source": [
        "# We would like to now find out the types for each of these 3 variables\n",
        "# insert code here for type of 'd'"
      ],
      "execution_count": null,
      "outputs": []
    },
    {
      "cell_type": "code",
      "metadata": {
        "id": "pT__EB6n54PS",
        "colab_type": "code",
        "colab": {}
      },
      "source": [
        "# insert code here for type of 'e'"
      ],
      "execution_count": null,
      "outputs": []
    },
    {
      "cell_type": "code",
      "metadata": {
        "id": "4lfNUV9J54Bi",
        "colab_type": "code",
        "colab": {}
      },
      "source": [
        "# insert code here for type of 'f'"
      ],
      "execution_count": null,
      "outputs": []
    },
    {
      "cell_type": "code",
      "metadata": {
        "id": "cNdcLVei62j9",
        "colab_type": "code",
        "colab": {}
      },
      "source": [
        "# insert code here for type of 'g'"
      ],
      "execution_count": null,
      "outputs": []
    },
    {
      "cell_type": "markdown",
      "metadata": {
        "id": "TquIzcxB4s60",
        "colab_type": "text"
      },
      "source": [
        "### Sequence"
      ]
    },
    {
      "cell_type": "markdown",
      "metadata": {
        "id": "eO-nuiNS4up6",
        "colab_type": "text"
      },
      "source": [
        "#### String"
      ]
    },
    {
      "cell_type": "code",
      "metadata": {
        "id": "sskMtNGV5-84",
        "colab_type": "code",
        "colab": {}
      },
      "source": [
        "# Create a String with single quotes, called String1\n",
        "# string1 vs. String1\n",
        "\n",
        "\n",
        "# insert code here"
      ],
      "execution_count": null,
      "outputs": []
    },
    {
      "cell_type": "code",
      "metadata": {
        "id": "p9RMP3Od6TlN",
        "colab_type": "code",
        "colab": {}
      },
      "source": [
        "# Create a String with double quotes, called String2\n",
        "# We will first assign it as a variable, then print out the value and its type\n",
        "# insert code here"
      ],
      "execution_count": null,
      "outputs": []
    },
    {
      "cell_type": "code",
      "metadata": {
        "id": "RueM491z6TsR",
        "colab_type": "code",
        "colab": {}
      },
      "source": [
        "# Create a String with triple quotes, called String3\n",
        "# We will first assign it as a variable, then print out the value and its type\n",
        "# insert code here"
      ],
      "execution_count": null,
      "outputs": []
    },
    {
      "cell_type": "code",
      "metadata": {
        "id": "TqrSiJj46TfQ",
        "colab_type": "code",
        "colab": {}
      },
      "source": [
        "# Creating String with triple quotes allows multiple lines, called String4\n",
        "# We will first assign it as a variable, then print out the value and its type\n",
        "# insert code here"
      ],
      "execution_count": null,
      "outputs": []
    },
    {
      "cell_type": "markdown",
      "metadata": {
        "id": "4KMOevSo6rBb",
        "colab_type": "text"
      },
      "source": [
        "Access elements of a string: "
      ]
    },
    {
      "cell_type": "code",
      "metadata": {
        "id": "D4w-DWqu66SZ",
        "colab_type": "code",
        "colab": {}
      },
      "source": [
        "# First, print out the initial string (we will choose String4)\n",
        "# insert code here"
      ],
      "execution_count": null,
      "outputs": []
    },
    {
      "cell_type": "code",
      "metadata": {
        "id": "06d2FCpl7FsW",
        "colab_type": "code",
        "colab": {}
      },
      "source": [
        "# Now, we will print the first character of String4\n",
        "# insert code here"
      ],
      "execution_count": null,
      "outputs": []
    },
    {
      "cell_type": "code",
      "metadata": {
        "id": "_bwMFWfQ67AH",
        "colab_type": "code",
        "colab": {}
      },
      "source": [
        "# Now, we will print the last character of String4 \n",
        "# insert code here"
      ],
      "execution_count": null,
      "outputs": []
    },
    {
      "cell_type": "markdown",
      "metadata": {
        "id": "Nss5FhjS4u_7",
        "colab_type": "text"
      },
      "source": [
        "#### List\n"
      ]
    },
    {
      "cell_type": "markdown",
      "metadata": {
        "id": "LhxEXyoV7TSE",
        "colab_type": "text"
      },
      "source": [
        "Creating a list:"
      ]
    },
    {
      "cell_type": "code",
      "metadata": {
        "id": "hhz-eU0T7QyL",
        "colab_type": "code",
        "colab": {}
      },
      "source": [
        "# First, we will create an empty list and name it \"List\"\n",
        "# insert code here "
      ],
      "execution_count": null,
      "outputs": []
    },
    {
      "cell_type": "code",
      "metadata": {
        "id": "tFkSk_y67eb0",
        "colab_type": "code",
        "colab": {}
      },
      "source": [
        "# Next, we will create a list with the use of a String \n",
        "# This string will be: 'WomenWhoCode'\n",
        "# Then, we will print out the string itself\n",
        "# insert code here"
      ],
      "execution_count": null,
      "outputs": []
    },
    {
      "cell_type": "code",
      "metadata": {
        "id": "U0VVub6u7eqD",
        "colab_type": "code",
        "colab": {}
      },
      "source": [
        "# Next, we will create a list with the use of multiple values\n",
        "# The list will contain the values: Women, Who, Code, Python\n",
        "# Then, we will print out the 1st and 3rd values of the list\n",
        "# insert code here  "
      ],
      "execution_count": null,
      "outputs": []
    },
    {
      "cell_type": "code",
      "metadata": {
        "id": "p5wLtbmI7QhA",
        "colab_type": "code",
        "colab": {}
      },
      "source": [
        "# Lastly, we will create a multi-dimensional list by nesting a list inside a list \n",
        "# The list will contain: Women, Who, Code in the outer list, and Python in the nested list\n",
        "# Then, we will print out this multi-dimensional list\n",
        "# insert code here"
      ],
      "execution_count": null,
      "outputs": []
    },
    {
      "cell_type": "markdown",
      "metadata": {
        "id": "ZY71fmYU7U0B",
        "colab_type": "text"
      },
      "source": [
        "Access elements of a list:"
      ]
    },
    {
      "cell_type": "code",
      "metadata": {
        "id": "YFY_pwpF75kR",
        "colab_type": "code",
        "colab": {}
      },
      "source": [
        "# Now, we would like to access elements of the list.\n",
        "# This list will contain the same values as above.\n",
        "# insert code here "
      ],
      "execution_count": null,
      "outputs": []
    },
    {
      "cell_type": "code",
      "metadata": {
        "id": "g3StJedvDfwN",
        "colab_type": "code",
        "colab": {}
      },
      "source": [
        "# Now, we will print out the 1st and 3rd values of the above list\n",
        "# We will do this by using the index number\n",
        "# insert code here"
      ],
      "execution_count": null,
      "outputs": []
    },
    {
      "cell_type": "code",
      "metadata": {
        "id": "Dc3YF4O576AX",
        "colab_type": "code",
        "colab": {
          "base_uri": "https://localhost:8080/",
          "height": 34
        },
        "outputId": "bc5548b9-6dc2-472f-9348-6567a9ce8384"
      },
      "source": [
        "# Another way to access an element is by using negative indexing\n",
        "# First, we will print the last element of the list.\n",
        "# insert code here\n",
        "\n",
        "\n",
        "# Now, we will print the 3rd-to-last element of the list.\n",
        "# insert code here "
      ],
      "execution_count": null,
      "outputs": [
        {
          "output_type": "stream",
          "text": [
            "Accessing element using negative indexing\n"
          ],
          "name": "stdout"
        }
      ]
    },
    {
      "cell_type": "markdown",
      "metadata": {
        "id": "dWXRi0j24x3C",
        "colab_type": "text"
      },
      "source": [
        "#### Tuple"
      ]
    },
    {
      "cell_type": "markdown",
      "metadata": {
        "id": "kK-yqJQR8ant",
        "colab_type": "text"
      },
      "source": [
        "Creating a tuple:"
      ]
    },
    {
      "cell_type": "code",
      "metadata": {
        "id": "5RAlikCj-j74",
        "colab_type": "code",
        "colab": {}
      },
      "source": [
        "# We will begin by creating an empty tuple \n",
        "# We will name this 'Tuple1' and it will be empty to begin with\n",
        "# insert code here"
      ],
      "execution_count": null,
      "outputs": []
    },
    {
      "cell_type": "code",
      "metadata": {
        "id": "5VBOKIA_8foK",
        "colab_type": "code",
        "colab": {}
      },
      "source": [
        "# Next, we will create a tuple with the use of strings, just like we did for lists earlier\n",
        "# This will also be called 'Tuple1' and will contain the values: Women, Who\n",
        "# We will then print out Tuple1\n",
        "# insert code here"
      ],
      "execution_count": null,
      "outputs": []
    },
    {
      "cell_type": "code",
      "metadata": {
        "id": "EDCkG-gt8fzm",
        "colab_type": "code",
        "colab": {}
      },
      "source": [
        "# Now, we will be creating a tuple with the use of list  \n",
        "# We will name this list, list 1, and it will contain the values: 1, 2, 4, 5, 6\n",
        "# insert code here "
      ],
      "execution_count": null,
      "outputs": []
    },
    {
      "cell_type": "code",
      "metadata": {
        "id": "J1SOLhRb8fsh",
        "colab_type": "code",
        "colab": {}
      },
      "source": [
        "# Now, we will create a tuple with the use of the built-in function  \n",
        "# This will be called 'Tuple1' and will contain the value: WomenWhoCode\n",
        "# Then, we will print out 'Tuple1'\n",
        "# insert code here"
      ],
      "execution_count": null,
      "outputs": []
    },
    {
      "cell_type": "code",
      "metadata": {
        "id": "G2xhkQ1Q8fiQ",
        "colab_type": "code",
        "colab": {}
      },
      "source": [
        "# Lastly, we will create a tuple with nested tuples \n",
        "# We will start out with Tuple1 (containing the values: 0, 1, 2, 3)\n",
        "# Then, we will have Tuple2 (containing the values: python, women)\n",
        "# Finally, we will have Tuple3 (containing the values: Tuple1, Tuple2)\n",
        "# Last, we will print out 'Tuple3' \n",
        "# insert code here"
      ],
      "execution_count": null,
      "outputs": []
    },
    {
      "cell_type": "markdown",
      "metadata": {
        "id": "vljerFkl8ccK",
        "colab_type": "text"
      },
      "source": [
        "Access element from a tuple:"
      ]
    },
    {
      "cell_type": "code",
      "metadata": {
        "id": "c-xLWIhE8d__",
        "colab_type": "code",
        "colab": {}
      },
      "source": [
        "# Now, we will be accessing elements from the tuple\n",
        "# The tuple will be tuple1 and contain the values: 1, 2, 3, 4, 5\n",
        "# insert code here "
      ],
      "execution_count": null,
      "outputs": []
    },
    {
      "cell_type": "code",
      "metadata": {
        "id": "w-LdZurY9CEh",
        "colab_type": "code",
        "colab": {}
      },
      "source": [
        "# Next, we will access an element using indexing\n",
        "# We will access and print out the first value of tuple1\n",
        "# insert code here "
      ],
      "execution_count": null,
      "outputs": []
    },
    {
      "cell_type": "code",
      "metadata": {
        "id": "lFHYKuHo9B__",
        "colab_type": "code",
        "colab": {}
      },
      "source": [
        "# Lastly, we will access an element using negative indexing\n",
        "# First, we will access the last element of tuple1 and print it out.\n",
        "# insert code here\n",
        "\n",
        "# Secondly, we will access the third-to-last element of tuple1 and print it out.\n",
        "# insert code here "
      ],
      "execution_count": null,
      "outputs": []
    },
    {
      "cell_type": "code",
      "metadata": {
        "id": "Q0zUJZm6FD9s",
        "colab_type": "code",
        "colab": {}
      },
      "source": [
        ""
      ],
      "execution_count": null,
      "outputs": []
    }
  ]
}