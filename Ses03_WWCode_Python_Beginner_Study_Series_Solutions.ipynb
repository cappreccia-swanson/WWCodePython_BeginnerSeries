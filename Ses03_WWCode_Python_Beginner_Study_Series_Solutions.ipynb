{
  "nbformat": 4,
  "nbformat_minor": 0,
  "metadata": {
    "colab": {
      "name": "Ses03_WWCode Python: Beginner Study Series_Solutions.ipynb",
      "provenance": [],
      "toc_visible": true,
      "include_colab_link": true
    },
    "kernelspec": {
      "name": "python3",
      "display_name": "Python 3"
    }
  },
  "cells": [
    {
      "cell_type": "markdown",
      "metadata": {
        "id": "view-in-github",
        "colab_type": "text"
      },
      "source": [
        "<a href=\"https://colab.research.google.com/github/nuageklow/WWCodePython_BeginnerSeries/blob/master/Ses03_WWCode_Python_Beginner_Study_Series_Solutions.ipynb\" target=\"_parent\"><img src=\"https://colab.research.google.com/assets/colab-badge.svg\" alt=\"Open In Colab\"/></a>"
      ]
    },
    {
      "cell_type": "markdown",
      "metadata": {
        "id": "ssewOGTo4U20"
      },
      "source": [
        "# Session #3: Data Types - Part 1"
      ]
    },
    {
      "cell_type": "markdown",
      "metadata": {
        "id": "KF3ERxhK4ayM"
      },
      "source": [
        "## Outline:\n",
        "\n",
        "\n",
        "\n",
        "*   Numeric:\n",
        "  * Integers\n",
        "  * Floating-point\n",
        "*   Sequence:\n",
        "  * String\n",
        "  * List\n",
        "  * Tuple\n"
      ]
    },
    {
      "cell_type": "markdown",
      "metadata": {
        "id": "YzvdYewi4nJ8"
      },
      "source": [
        "### Numeric"
      ]
    },
    {
      "cell_type": "markdown",
      "metadata": {
        "id": "4V6uweje4pEg"
      },
      "source": [
        "#### Integers"
      ]
    },
    {
      "cell_type": "code",
      "metadata": {
        "id": "2devA0YC40K6",
        "outputId": "7bdc6be6-e8bf-431c-c3cd-01765baef784",
        "colab": {
          "base_uri": "https://localhost:8080/",
          "height": 34
        }
      },
      "source": [
        "# What type is this?\n",
        "type(10)"
      ],
      "execution_count": null,
      "outputs": [
        {
          "output_type": "execute_result",
          "data": {
            "text/plain": [
              "int"
            ]
          },
          "metadata": {
            "tags": []
          },
          "execution_count": 1
        }
      ]
    },
    {
      "cell_type": "code",
      "metadata": {
        "id": "gDHjxL6j5BLJ",
        "outputId": "1c915c58-1ba7-42ad-d474-0a3cf5eb0b2b",
        "colab": {
          "base_uri": "https://localhost:8080/",
          "height": 34
        }
      },
      "source": [
        "# What about this one?\n",
        "type (99999999)"
      ],
      "execution_count": null,
      "outputs": [
        {
          "output_type": "execute_result",
          "data": {
            "text/plain": [
              "int"
            ]
          },
          "metadata": {
            "tags": []
          },
          "execution_count": 2
        }
      ]
    },
    {
      "cell_type": "code",
      "metadata": {
        "id": "OBNbdGz25Bgy",
        "outputId": "b1918ce2-768a-4534-ca4e-9067522d2b72",
        "colab": {
          "base_uri": "https://localhost:8080/",
          "height": 34
        }
      },
      "source": [
        "a = 12345\n",
        "a"
      ],
      "execution_count": null,
      "outputs": [
        {
          "output_type": "execute_result",
          "data": {
            "text/plain": [
              "12345"
            ]
          },
          "metadata": {
            "tags": []
          },
          "execution_count": 17
        }
      ]
    },
    {
      "cell_type": "code",
      "metadata": {
        "id": "pYXGBvED5Nzm",
        "outputId": "4c5fbca8-9f63-4d7f-e754-6de36e893e17",
        "colab": {
          "base_uri": "https://localhost:8080/",
          "height": 34
        }
      },
      "source": [
        "b = 20\n",
        "b"
      ],
      "execution_count": null,
      "outputs": [
        {
          "output_type": "execute_result",
          "data": {
            "text/plain": [
              "20"
            ]
          },
          "metadata": {
            "tags": []
          },
          "execution_count": 18
        }
      ]
    },
    {
      "cell_type": "code",
      "metadata": {
        "id": "txQ8Arr_5a9H",
        "outputId": "9c15ccce-2bdc-4ae6-d8b0-c787fcd8ad62",
        "colab": {
          "base_uri": "https://localhost:8080/",
          "height": 34
        }
      },
      "source": [
        "c = -700\n",
        "c"
      ],
      "execution_count": null,
      "outputs": [
        {
          "output_type": "execute_result",
          "data": {
            "text/plain": [
              "-700"
            ]
          },
          "metadata": {
            "tags": []
          },
          "execution_count": 19
        }
      ]
    },
    {
      "cell_type": "code",
      "metadata": {
        "id": "DuuCTd5h5OdW",
        "outputId": "dcdae5d3-c45a-484f-a3a7-941708fed72a",
        "colab": {
          "base_uri": "https://localhost:8080/",
          "height": 34
        }
      },
      "source": [
        "print(\"Type of a is: \", type(a))"
      ],
      "execution_count": null,
      "outputs": [
        {
          "output_type": "stream",
          "text": [
            "Type of a is:  <class 'int'>\n"
          ],
          "name": "stdout"
        }
      ]
    },
    {
      "cell_type": "code",
      "metadata": {
        "id": "Q60tOlaf5c-K",
        "outputId": "91a7dde7-5f81-4acb-9436-53c4e0b8973b",
        "colab": {
          "base_uri": "https://localhost:8080/",
          "height": 34
        }
      },
      "source": [
        "print(\"Type of b is: \", type(b))"
      ],
      "execution_count": null,
      "outputs": [
        {
          "output_type": "stream",
          "text": [
            "Type of b is:  <class 'int'>\n"
          ],
          "name": "stdout"
        }
      ]
    },
    {
      "cell_type": "code",
      "metadata": {
        "id": "HDdG0F0l5dXI",
        "outputId": "e213dc2f-aa00-46d6-fca5-8688b7e14cce",
        "colab": {
          "base_uri": "https://localhost:8080/",
          "height": 34
        }
      },
      "source": [
        "print(\"Type of c is: \", type(c))"
      ],
      "execution_count": null,
      "outputs": [
        {
          "output_type": "stream",
          "text": [
            "Type of c is:  <class 'int'>\n"
          ],
          "name": "stdout"
        }
      ]
    },
    {
      "cell_type": "markdown",
      "metadata": {
        "id": "IXYA0-6R4rPt"
      },
      "source": [
        "#### Floating-point"
      ]
    },
    {
      "cell_type": "code",
      "metadata": {
        "id": "mdxoBmCS5STD",
        "outputId": "a61ab352-ab77-417c-a8a8-bef1dd9659f0",
        "colab": {
          "base_uri": "https://localhost:8080/",
          "height": 34
        }
      },
      "source": [
        "type(10.0)"
      ],
      "execution_count": null,
      "outputs": [
        {
          "output_type": "execute_result",
          "data": {
            "text/plain": [
              "float"
            ]
          },
          "metadata": {
            "tags": []
          },
          "execution_count": 13
        }
      ]
    },
    {
      "cell_type": "code",
      "metadata": {
        "id": "4lK6MYDE5l-A",
        "outputId": "f2c947c8-672f-49c8-f178-25ef0e5c75a6",
        "colab": {
          "base_uri": "https://localhost:8080/",
          "height": 34
        }
      },
      "source": [
        "type (99999999.00)"
      ],
      "execution_count": null,
      "outputs": [
        {
          "output_type": "execute_result",
          "data": {
            "text/plain": [
              "float"
            ]
          },
          "metadata": {
            "tags": []
          },
          "execution_count": 14
        }
      ]
    },
    {
      "cell_type": "code",
      "metadata": {
        "id": "HIg5zXP25nZw",
        "outputId": "a5f5f808-b303-4eea-e38b-5bd3b6ce2bb9",
        "colab": {
          "base_uri": "https://localhost:8080/",
          "height": 34
        }
      },
      "source": [
        "d = 12345.0\n",
        "d"
      ],
      "execution_count": null,
      "outputs": [
        {
          "output_type": "execute_result",
          "data": {
            "text/plain": [
              "12345.0"
            ]
          },
          "metadata": {
            "tags": []
          },
          "execution_count": 16
        }
      ]
    },
    {
      "cell_type": "code",
      "metadata": {
        "id": "72XAbVn65sIH",
        "outputId": "11dcff38-e27b-4b59-ba88-c712c2e7b023",
        "colab": {
          "base_uri": "https://localhost:8080/",
          "height": 34
        }
      },
      "source": [
        "e = 20.000\n",
        "e"
      ],
      "execution_count": null,
      "outputs": [
        {
          "output_type": "execute_result",
          "data": {
            "text/plain": [
              "20.0"
            ]
          },
          "metadata": {
            "tags": []
          },
          "execution_count": 20
        }
      ]
    },
    {
      "cell_type": "code",
      "metadata": {
        "id": "O8W4HYnO5sZY",
        "outputId": "1983c7c6-f32f-4fa6-df6e-c1244e498ed4",
        "colab": {
          "base_uri": "https://localhost:8080/",
          "height": 34
        }
      },
      "source": [
        "f = -700.000000\n",
        "f"
      ],
      "execution_count": null,
      "outputs": [
        {
          "output_type": "execute_result",
          "data": {
            "text/plain": [
              "-700.0"
            ]
          },
          "metadata": {
            "tags": []
          },
          "execution_count": 22
        }
      ]
    },
    {
      "cell_type": "code",
      "metadata": {
        "id": "N_h5fSrl6z7s",
        "outputId": "b0f7c5f1-f828-4f87-934c-567793986eae",
        "colab": {
          "base_uri": "https://localhost:8080/",
          "height": 34
        }
      },
      "source": [
        "g = 7e-5\n",
        "g"
      ],
      "execution_count": null,
      "outputs": [
        {
          "output_type": "execute_result",
          "data": {
            "text/plain": [
              "7e-05"
            ]
          },
          "metadata": {
            "tags": []
          },
          "execution_count": 30
        }
      ]
    },
    {
      "cell_type": "code",
      "metadata": {
        "id": "xi-925l954I-",
        "outputId": "d5a86d47-e4c4-4a56-b75c-3cd3be156ac6",
        "colab": {
          "base_uri": "https://localhost:8080/",
          "height": 34
        }
      },
      "source": [
        "print(\"Type of d is: \", type(d))"
      ],
      "execution_count": null,
      "outputs": [
        {
          "output_type": "stream",
          "text": [
            "Type of d is:  <class 'float'>\n"
          ],
          "name": "stdout"
        }
      ]
    },
    {
      "cell_type": "code",
      "metadata": {
        "id": "pT__EB6n54PS",
        "outputId": "66355878-093a-4210-c53d-ba2fcf6c0322",
        "colab": {
          "base_uri": "https://localhost:8080/",
          "height": 34
        }
      },
      "source": [
        "print(\"Type of e is: \", type(e))"
      ],
      "execution_count": null,
      "outputs": [
        {
          "output_type": "stream",
          "text": [
            "Type of e is:  <class 'float'>\n"
          ],
          "name": "stdout"
        }
      ]
    },
    {
      "cell_type": "code",
      "metadata": {
        "id": "4lfNUV9J54Bi",
        "outputId": "e17a0f5e-310a-4271-9b6c-6dfde836260e",
        "colab": {
          "base_uri": "https://localhost:8080/",
          "height": 34
        }
      },
      "source": [
        "print(\"Type of f is: \", type(f))"
      ],
      "execution_count": null,
      "outputs": [
        {
          "output_type": "stream",
          "text": [
            "Type of f is:  <class 'float'>\n"
          ],
          "name": "stdout"
        }
      ]
    },
    {
      "cell_type": "code",
      "metadata": {
        "id": "cNdcLVei62j9",
        "outputId": "a977aecb-4582-4a20-b6c7-1222e88be50e",
        "colab": {
          "base_uri": "https://localhost:8080/",
          "height": 34
        }
      },
      "source": [
        "print(\"Type of g is: \", type(g))"
      ],
      "execution_count": null,
      "outputs": [
        {
          "output_type": "stream",
          "text": [
            "Type of g is:  <class 'float'>\n"
          ],
          "name": "stdout"
        }
      ]
    },
    {
      "cell_type": "markdown",
      "metadata": {
        "id": "TquIzcxB4s60"
      },
      "source": [
        "### Sequence"
      ]
    },
    {
      "cell_type": "markdown",
      "metadata": {
        "id": "eO-nuiNS4up6"
      },
      "source": [
        "#### String"
      ]
    },
    {
      "cell_type": "code",
      "metadata": {
        "id": "sskMtNGV5-84",
        "outputId": "59463ffe-9e0b-4751-e6c6-3d04fb0460f5",
        "colab": {
          "base_uri": "https://localhost:8080/",
          "height": 51
        }
      },
      "source": [
        "# Create a String with single quotes\n",
        "\n",
        "String1 = 'This is a Python string'\n",
        "print(\"String with the use of Single Quotes: \")  \n",
        "print(String1)   \n",
        "print(type(String1)) "
      ],
      "execution_count": null,
      "outputs": [
        {
          "output_type": "stream",
          "text": [
            "String with the use of Single Quotes: \n",
            "This is a Python string\n"
          ],
          "name": "stdout"
        }
      ]
    },
    {
      "cell_type": "code",
      "metadata": {
        "id": "p9RMP3Od6TlN",
        "outputId": "d4bbab7c-53e2-4270-e62f-0489ddcc1d21",
        "colab": {
          "base_uri": "https://localhost:8080/",
          "height": 85
        }
      },
      "source": [
        "# Create a String with double quotes  \n",
        "\n",
        "String2 = \"I am a Python programmer\"\n",
        "print(\"\\nString with the use of Double Quotes: \")  \n",
        "print(String2)  \n",
        "print(type(String2))"
      ],
      "execution_count": null,
      "outputs": [
        {
          "output_type": "stream",
          "text": [
            "\n",
            "String with the use of Double Quotes: \n",
            "I am a Python programmer\n",
            "<class 'str'>\n"
          ],
          "name": "stdout"
        }
      ]
    },
    {
      "cell_type": "code",
      "metadata": {
        "id": "RueM491z6TsR",
        "outputId": "a54dfbc5-5ca0-4e40-b66a-7da32b670651",
        "colab": {
          "base_uri": "https://localhost:8080/",
          "height": 85
        }
      },
      "source": [
        "# Create a String with triple quotes  \n",
        "\n",
        "String3 = '''This is a Women Who Code event\"'''\n",
        "print(\"\\nString with the use of Triple Quotes: \")  \n",
        "print(String3)  \n",
        "print(type(String3))"
      ],
      "execution_count": null,
      "outputs": [
        {
          "output_type": "stream",
          "text": [
            "\n",
            "String with the use of Triple Quotes: \n",
            "This is a Women Who Code event\"\n",
            "<class 'str'>\n"
          ],
          "name": "stdout"
        }
      ]
    },
    {
      "cell_type": "code",
      "metadata": {
        "id": "TqrSiJj46TfQ",
        "outputId": "f6716aea-c3b3-42ea-8e28-27b378515c3e",
        "colab": {
          "base_uri": "https://localhost:8080/",
          "height": 68
        }
      },
      "source": [
        "# Creating String with triple quotes allows multiple lines  \n",
        "\n",
        "String4 = '''Python rules!'''\n",
        "print(\"\\nCreating a multiline String: \")  \n",
        "print(String4)\n",
        "print(type(String4))"
      ],
      "execution_count": null,
      "outputs": [
        {
          "output_type": "stream",
          "text": [
            "\n",
            "Creating a multiline String: \n",
            "Python rules!\n"
          ],
          "name": "stdout"
        }
      ]
    },
    {
      "cell_type": "markdown",
      "metadata": {
        "id": "4KMOevSo6rBb"
      },
      "source": [
        "Access elements of a string: "
      ]
    },
    {
      "cell_type": "code",
      "metadata": {
        "id": "D4w-DWqu66SZ",
        "outputId": "804b9917-2f8a-4428-c932-3d4020e6c457",
        "colab": {
          "base_uri": "https://localhost:8080/",
          "height": 34
        }
      },
      "source": [
        "print(\"Initial String: \", String4)"
      ],
      "execution_count": null,
      "outputs": [
        {
          "output_type": "stream",
          "text": [
            "Initial String:  Python rules!\n"
          ],
          "name": "stdout"
        }
      ]
    },
    {
      "cell_type": "code",
      "metadata": {
        "id": "06d2FCpl7FsW",
        "outputId": "b2970fa7-c01f-4bb6-834a-397bb69280d2",
        "colab": {
          "base_uri": "https://localhost:8080/",
          "height": 51
        }
      },
      "source": [
        "# Printing First character  \n",
        "print(\"\\nFirst character of String is: \", String4[0])"
      ],
      "execution_count": null,
      "outputs": [
        {
          "output_type": "stream",
          "text": [
            "\n",
            "First character of String is:  P\n"
          ],
          "name": "stdout"
        }
      ]
    },
    {
      "cell_type": "code",
      "metadata": {
        "id": "_bwMFWfQ67AH",
        "outputId": "00af8364-4fa8-4297-bcf7-cca8b21f46d7",
        "colab": {
          "base_uri": "https://localhost:8080/",
          "height": 51
        }
      },
      "source": [
        "# Printing Last character  \n",
        "print(\"\\nLast character of String is: \", String4[-1])"
      ],
      "execution_count": null,
      "outputs": [
        {
          "output_type": "stream",
          "text": [
            "\n",
            "Last character of String is:  !\n"
          ],
          "name": "stdout"
        }
      ]
    },
    {
      "cell_type": "markdown",
      "metadata": {
        "id": "Nss5FhjS4u_7"
      },
      "source": [
        "#### List\n"
      ]
    },
    {
      "cell_type": "markdown",
      "metadata": {
        "id": "LhxEXyoV7TSE"
      },
      "source": [
        "Creating a list:"
      ]
    },
    {
      "cell_type": "code",
      "metadata": {
        "id": "hhz-eU0T7QyL",
        "outputId": "cd4a74f0-2063-4d57-ed7a-dd763fce045c",
        "colab": {
          "base_uri": "https://localhost:8080/",
          "height": 34
        }
      },
      "source": [
        "List = []  \n",
        "print(\"Initial blank List: \", List)  "
      ],
      "execution_count": null,
      "outputs": [
        {
          "output_type": "stream",
          "text": [
            "Intial blank List:  []\n"
          ],
          "name": "stdout"
        }
      ]
    },
    {
      "cell_type": "code",
      "metadata": {
        "id": "tFkSk_y67eb0",
        "outputId": "86087ddb-598f-4c3f-ac5b-9fef52a7bfd9",
        "colab": {
          "base_uri": "https://localhost:8080/",
          "height": 51
        }
      },
      "source": [
        "# Creating a List with the use of a String  \n",
        "List = ['WomenWhoCode']  \n",
        "print(\"\\nList with the use of String: \", List)  "
      ],
      "execution_count": null,
      "outputs": [
        {
          "output_type": "stream",
          "text": [
            "\n",
            "List with the use of String:  ['WomenWhoCode']\n"
          ],
          "name": "stdout"
        }
      ]
    },
    {
      "cell_type": "code",
      "metadata": {
        "id": "U0VVub6u7eqD",
        "outputId": "cd7bd62c-d915-4047-c951-5257d3b1bb74",
        "colab": {
          "base_uri": "https://localhost:8080/",
          "height": 51
        }
      },
      "source": [
        "# Creating a List with  \n",
        "# the use of multiple values  \n",
        "List = [\"Women\", \"Who\", \"Code\", \"Python\"]  \n",
        "print(\"\\nList containing multiple values: \", List[0], List[2])"
      ],
      "execution_count": null,
      "outputs": [
        {
          "output_type": "stream",
          "text": [
            "\n",
            "List containing multiple values:  Women Code\n"
          ],
          "name": "stdout"
        }
      ]
    },
    {
      "cell_type": "code",
      "metadata": {
        "id": "p5wLtbmI7QhA",
        "outputId": "9f69b0c6-56b4-4011-adac-ac3c6c17b14a",
        "colab": {
          "base_uri": "https://localhost:8080/",
          "height": 51
        }
      },
      "source": [
        "# Creating a Multi-Dimensional List (By Nesting a list inside a List)  \n",
        "List = [['Women', 'Who', 'Code'], ['Python']]  \n",
        "print(\"\\nMulti-Dimensional List: \", List)"
      ],
      "execution_count": null,
      "outputs": [
        {
          "output_type": "stream",
          "text": [
            "\n",
            "Multi-Dimensional List:  [['Women', 'Who', 'Code'], ['Python']]\n"
          ],
          "name": "stdout"
        }
      ]
    },
    {
      "cell_type": "markdown",
      "metadata": {
        "id": "ZY71fmYU7U0B"
      },
      "source": [
        "Access elements of a list:"
      ]
    },
    {
      "cell_type": "code",
      "metadata": {
        "id": "YFY_pwpF75kR",
        "outputId": "9f6da708-124d-4ea5-d7c3-b0659b17258e",
        "colab": {
          "base_uri": "https://localhost:8080/",
          "height": 34
        }
      },
      "source": [
        "List = [\"Women\", \"Who\", \"Code\", \"Python\"]  \n",
        "    \n",
        "# accessing an element from the list using index number  \n",
        "print(\"Accessing element from the list:\", List[0], List[2])  "
      ],
      "execution_count": null,
      "outputs": [
        {
          "output_type": "stream",
          "text": [
            "Accessing element from the list: Women Code\n"
          ],
          "name": "stdout"
        }
      ]
    },
    {
      "cell_type": "code",
      "metadata": {
        "id": "Dc3YF4O576AX",
        "outputId": "bc5548b9-6dc2-472f-9348-6567a9ce8384",
        "colab": {
          "base_uri": "https://localhost:8080/",
          "height": 34
        }
      },
      "source": [
        "# accessing an element using negative indexing  \n",
        "print(\"Accessing element using negative indexing\") "
      ],
      "execution_count": null,
      "outputs": [
        {
          "output_type": "stream",
          "text": [
            "Accessing element using negative indexing\n"
          ],
          "name": "stdout"
        }
      ]
    },
    {
      "cell_type": "code",
      "metadata": {
        "id": "GmOZIZhv76FU",
        "outputId": "90a3e882-c406-44bf-f006-eb163e3f2cc4",
        "colab": {
          "base_uri": "https://localhost:8080/",
          "height": 34
        }
      },
      "source": [
        "# print the last element of list  \n",
        "print(List[-1])"
      ],
      "execution_count": null,
      "outputs": [
        {
          "output_type": "stream",
          "text": [
            "Python\n"
          ],
          "name": "stdout"
        }
      ]
    },
    {
      "cell_type": "code",
      "metadata": {
        "id": "HuTdn8ub756I",
        "outputId": "d8f8fbe2-8537-49cb-8e78-36fb379bae7d",
        "colab": {
          "base_uri": "https://localhost:8080/",
          "height": 34
        }
      },
      "source": [
        "# print the third last element of list   \n",
        "print(List[-3])"
      ],
      "execution_count": null,
      "outputs": [
        {
          "output_type": "stream",
          "text": [
            "Who\n"
          ],
          "name": "stdout"
        }
      ]
    },
    {
      "cell_type": "markdown",
      "metadata": {
        "id": "dWXRi0j24x3C"
      },
      "source": [
        "#### Tuple"
      ]
    },
    {
      "cell_type": "markdown",
      "metadata": {
        "id": "kK-yqJQR8ant"
      },
      "source": [
        "Creating a tuple:"
      ]
    },
    {
      "cell_type": "code",
      "metadata": {
        "id": "5RAlikCj-j74",
        "outputId": "01fd01cf-e5a4-473c-e5b9-6699398c1afc",
        "colab": {
          "base_uri": "https://localhost:8080/",
          "height": 51
        }
      },
      "source": [
        "# Creating an empty tuple  \n",
        "Tuple1 = ()  \n",
        "print(\"Initial empty Tuple: \")  \n",
        "print (Tuple1)  "
      ],
      "execution_count": null,
      "outputs": [
        {
          "output_type": "stream",
          "text": [
            "Initial empty Tuple: \n",
            "()\n"
          ],
          "name": "stdout"
        }
      ]
    },
    {
      "cell_type": "code",
      "metadata": {
        "id": "5VBOKIA_8foK",
        "outputId": "f0bf1096-581e-416f-c712-47282f96f594",
        "colab": {
          "base_uri": "https://localhost:8080/",
          "height": 51
        }
      },
      "source": [
        "# Creating a Tuple with the use of Strings  \n",
        "Tuple1 = ('Women', 'Who')  \n",
        "print(\"\\nTuple with the use of String: \", Tuple1)  "
      ],
      "execution_count": null,
      "outputs": [
        {
          "output_type": "stream",
          "text": [
            "\n",
            "Tuple with the use of String:  ('Women', 'Who')\n"
          ],
          "name": "stdout"
        }
      ]
    },
    {
      "cell_type": "code",
      "metadata": {
        "id": "EDCkG-gt8fzm",
        "outputId": "db5dab45-a49a-439d-94aa-1e8351ccb1d8",
        "colab": {
          "base_uri": "https://localhost:8080/",
          "height": 51
        }
      },
      "source": [
        "# Creating a Tuple with the use of list  \n",
        "list1 = [1, 2, 4, 5, 6]  \n",
        "print(\"\\nTuple using List: \", tuple(list1))   "
      ],
      "execution_count": null,
      "outputs": [
        {
          "output_type": "stream",
          "text": [
            "\n",
            "Tuple using List:  (1, 2, 4, 5, 6)\n"
          ],
          "name": "stdout"
        }
      ]
    },
    {
      "cell_type": "code",
      "metadata": {
        "id": "J1SOLhRb8fsh",
        "outputId": "46b7a2d3-7ad0-4cca-e94c-26a6830832dc",
        "colab": {
          "base_uri": "https://localhost:8080/",
          "height": 51
        }
      },
      "source": [
        "# Creating a Tuple with the use of built-in function  \n",
        "Tuple1 = tuple('WomenWhoCode')  \n",
        "print(\"\\nTuple with the use of function: \", Tuple1) "
      ],
      "execution_count": null,
      "outputs": [
        {
          "output_type": "stream",
          "text": [
            "\n",
            "Tuple with the use of function:  ('W', 'o', 'm', 'e', 'n', 'W', 'h', 'o', 'C', 'o', 'd', 'e')\n"
          ],
          "name": "stdout"
        }
      ]
    },
    {
      "cell_type": "code",
      "metadata": {
        "id": "G2xhkQ1Q8fiQ",
        "outputId": "60dea03b-3058-4378-fa4c-18f06ac5c419",
        "colab": {
          "base_uri": "https://localhost:8080/",
          "height": 51
        }
      },
      "source": [
        "# Creating a Tuple with nested tuples  \n",
        "Tuple1 = (0, 1, 2, 3)  \n",
        "Tuple2 = ('python', 'women')  \n",
        "Tuple3 = (Tuple1, Tuple2)  \n",
        "print(\"\\nTuple with nested tuples: \", Tuple3) "
      ],
      "execution_count": null,
      "outputs": [
        {
          "output_type": "stream",
          "text": [
            "\n",
            "Tuple with nested tuples:  ((0, 1, 2, 3), ('python', 'women'))\n"
          ],
          "name": "stdout"
        }
      ]
    },
    {
      "cell_type": "markdown",
      "metadata": {
        "id": "vljerFkl8ccK"
      },
      "source": [
        "Access element from a tuple:"
      ]
    },
    {
      "cell_type": "code",
      "metadata": {
        "id": "c-xLWIhE8d__"
      },
      "source": [
        "tuple1 = tuple([1, 2, 3, 4, 5]) "
      ],
      "execution_count": null,
      "outputs": []
    },
    {
      "cell_type": "code",
      "metadata": {
        "id": "w-LdZurY9CEh",
        "outputId": "429de0c9-7da6-4114-cc39-b6192eeb3f5b",
        "colab": {
          "base_uri": "https://localhost:8080/",
          "height": 34
        }
      },
      "source": [
        "# Accessing element using indexing \n",
        "print(\"First element of tuple: \", tuple1[0]) "
      ],
      "execution_count": null,
      "outputs": [
        {
          "output_type": "stream",
          "text": [
            "First element of tuple:  1\n"
          ],
          "name": "stdout"
        }
      ]
    },
    {
      "cell_type": "code",
      "metadata": {
        "id": "lFHYKuHo9B__",
        "outputId": "583f6cef-0be7-476b-8d8a-71acd6dd961b",
        "colab": {
          "base_uri": "https://localhost:8080/",
          "height": 85
        }
      },
      "source": [
        "# Accessing element from last \n",
        "# negative indexing \n",
        "print(\"\\nLast element of tuple: \", tuple1[-1]) \n",
        "  \n",
        "print(\"\\nThird last element of tuple: \", tuple1[-3]) "
      ],
      "execution_count": null,
      "outputs": [
        {
          "output_type": "stream",
          "text": [
            "\n",
            "Last element of tuple:  5\n",
            "\n",
            "Third last element of tuple:  3\n"
          ],
          "name": "stdout"
        }
      ]
    }
  ]
}